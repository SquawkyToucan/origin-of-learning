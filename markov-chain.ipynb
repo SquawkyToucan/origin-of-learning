{
 "cells": [
  {
   "cell_type": "markdown",
   "metadata": {},
   "source": [
    "# Markov chains\n",
    "\n",
    "[Markov chains](https://en.wikipedia.org/wiki/Markov_chain) are systems that evolve in discrete time. The system might have a state that evolves in time and represents the number of particles in a region of space or the probability of a given letter in a language. They are usually described by a state-transition diagram like,\n",
    "\n",
    "![state-transition diagram](https://upload.wikimedia.org/wikipedia/commons/thumb/2/2b/Markovkate_01.svg/440px-Markovkate_01.svg.png)\n",
    "\n",
    "which can be described in a matrix like,\n",
    "\n",
    "$$\n",
    "T = \\left(\\begin{matrix}\n",
    "0.3 & 0.4 \\\\\n",
    "0.7 & 0.6\n",
    "\\end{matrix}\\right)\n",
    "$$\n",
    "\n",
    "We then represent the state of the system like,\n",
    "$$\n",
    "x = \\left(\\begin{matrix}\n",
    "\\text{Quantity in E} \\\\\n",
    "\\text{Quantity in A}\n",
    "\\end{matrix}\\right)\n",
    "$$\n",
    "\n",
    "At each time step, we evolve the state by multiplying $ x_{t+1} = T x_t $."
   ]
  },
  {
   "cell_type": "code",
   "execution_count": 1,
   "metadata": {},
   "outputs": [],
   "source": [
    "import numpy as np\n",
    "import matplotlib.pyplot as plt\n",
    "from functools import reduce"
   ]
  },
  {
   "cell_type": "markdown",
   "metadata": {},
   "source": [
    "**Problem:** For the above transition matrix, evolve the matrix according to the above rule and plot the state versus time."
   ]
  },
  {
   "cell_type": "code",
   "execution_count": 38,
   "metadata": {},
   "outputs": [
    {
     "name": "stdout",
     "output_type": "stream",
     "text": [
      "[[1.   0.3  0.37]\n",
      " [0.   0.7  0.63]]\n",
      "[[1. 0.]]\n"
     ]
    },
    {
     "data": {
      "image/png": "[encoded data removed]",
      "text/plain": [
       "<matplotlib.figure.Figure at 0x109596320>"
      ]
     },
     "metadata": {},
     "output_type": "display_data"
    }
   ],
   "source": [
    "T = np.array([[0.3, 0.4],\n",
    "              [0.7, 0.6]])\n",
    "\n",
    "x0 = np.array([1.0, 0.0]).reshape(-1, 1)\n",
    "\n",
    "# First, second, and third time step evolutions for example,\n",
    "print(np.hstack([x0, T.dot(x0), T.dot(T.dot(x0))]))\n",
    "\n",
    "def state_occupation(x0, T, steps):\n",
    "    # This following line is rather involved Python\n",
    "    # Just replace it, but you can assume that the line is correct\n",
    "    # to compare results\n",
    "    \"\"\"\n",
    "    Next top (amount into E) = (1, 1) * top + (1, 2) * bottom\n",
    "    Next bottom = (2, 1) * top + (2, 2) * bottom \n",
    "    \"\"\"\n",
    "    states = []\n",
    "    for i in range(steps):\n",
    "        states.append(x0)\n",
    "        x0 = T.dot(x0)\n",
    "        # Use steps to obtain numbers, (steps, 0) for top and (steps, 1) for bottom\n",
    "        \"\"\"\n",
    "        top = (T[0, 0] * x0[steps, 0] + T[0, 1] * x0[steps, 1])\n",
    "        bottom = (T[1, 0] * x0[steps - 1, 0] + T[1, 1] * x0[steps - 1, 1])\n",
    "        \"\"\"\n",
    "    return np.hstack(states).T\n",
    "\n",
    "print(np.array(sum((list(reduce(np.dot, [x0.T] + [T.T]*i)) for i in range(1)), [])))\n",
    "x = state_occupation(x0, T, 20)\n",
    "\n",
    "plt.plot(x[:, 0])\n",
    "plt.plot(x[:, 1])\n",
    "plt.legend(['E', 'A'])\n",
    "plt.ylim([0, 1])\n",
    "plt.show()"
   ]
  },
  {
   "cell_type": "markdown",
   "metadata": {},
   "source": [
    "**Problem:** At each timestep, find the most likely state. Meaning if E has more occupation than A, then E is more likely."
   ]
  },
  {
   "cell_type": "code",
   "execution_count": 48,
   "metadata": {
    "scrolled": true
   },
   "outputs": [
    {
     "name": "stdout",
     "output_type": "stream",
     "text": [
      "['E', 'A', 'A', 'A', 'A', 'A', 'A', 'A', 'A', 'A']\n"
     ]
    },
    {
     "data": {
      "text/plain": [
       "['E', 'A', 'A', 'A', 'A', 'A', 'A', 'A', 'A', 'A']"
      ]
     },
     "execution_count": 48,
     "metadata": {},
     "output_type": "execute_result"
    }
   ],
   "source": [
    "def most_likely(x0, T, steps, states=['E', 'A']):\n",
    "    # Replace the line with your own code\n",
    "    probables = []\n",
    "    for value in np.argmax(state_occupation(x0, T, steps), axis=1):\n",
    "        probables.append(states[value])\n",
    "    print(probables)\n",
    "    return probables\n",
    "    print([states[i] for i in np.argmax(state_occupation(x0, T, steps), axis=1)])\n",
    "\n",
    "most_likely(x0, T, 10)"
   ]
  },
  {
   "cell_type": "markdown",
   "metadata": {},
   "source": [
    "The output list should agree with the plot from the previous problem"
   ]
  },
  {
   "cell_type": "markdown",
   "metadata": {},
   "source": [
    "## Language Modeling\n",
    "\n",
    "Markov chains can be useful for generating fake words that mimic structures in the language. Let's look at a sample of text from [English](https://en.wikipedia.org/wiki/Donald_Trump),"
   ]
  },
  {
   "cell_type": "code",
   "execution_count": 49,
   "metadata": {},
   "outputs": [
    {
     "name": "stdout",
     "output_type": "stream",
     "text": [
      "1545.043137254902\n"
     ]
    }
   ],
   "source": [
    "import requests, re\n",
    "en = requests.get('http://www.gutenberg.org/files/74/74-0.txt').text.lower()\n",
    "en = re.sub('[^a-z]+', ' ', en) # Remove all non-alphabet characters\n",
    "print(len(en)/255)"
   ]
  },
  {
   "cell_type": "markdown",
   "metadata": {},
   "source": [
    "We can train a Markov chain simply by computing the transition probabilities between letters. Note that I add a 1.0e-3 to the initial matrix. This is called [Additive smoothing](https://en.wikipedia.org/wiki/Additive_smoothing) and although not needed, makes my life easier by avoiding dividing by zero."
   ]
  },
  {
   "cell_type": "code",
   "execution_count": 50,
   "metadata": {},
   "outputs": [
    {
     "name": "stdout",
     "output_type": "stream",
     "text": [
      "393985.0\n"
     ]
    }
   ],
   "source": [
    "T_en = np.zeros((255, 255))\n",
    "\n",
    "for c0, c1 in zip(en[:-1], en[1:]):\n",
    "    if ord(c0) < 256 and ord(c1) < 256:\n",
    "        T_en[ord(c1), ord(c0)] += 1.0\n",
    "\n",
    "print(np.sum(T_en))\n",
    "T_en /= np.sum(T_en, axis=1).reshape(-1, 1) + 1e-3"
   ]
  },
  {
   "cell_type": "markdown",
   "metadata": {},
   "source": [
    "I can generate a simple word by using the most likely function above,"
   ]
  },
  {
   "cell_type": "code",
   "execution_count": 51,
   "metadata": {},
   "outputs": [
    {
     "name": "stdout",
     "output_type": "stream",
     "text": [
      "['a', 'n', 'g', 'w', 'e', 'n', 'g', 'w', 'j', 'n', 'g', 'h', 'w', 'n', 'g', 'h', 't', 'h', 't', 'h', 't', 't', 't', 't', 't', 't', 't', 't', 't', 't', 't', 't', 't', 't', 't', 't', 't', 't', 't', 't', 't', 't', 't', 't', 't', 't', 't', 't', 't', 't']\n",
      "angwengwjnghwnghththtttttttttttttttttttttttttttttt\n",
      "['s', ' ', 'w', 'e', 'x', 'g', 'w', 'e', 'x', 'g', 'w', 'e', 'n', 'g', 'w', 'a', 'n', 't', 'h', 't', 't', 't', 't', 't', 't', 't', 't', 't', 't', 't', 't', 't', 't', 't', 't', 't', 't', 't', 't', 't', 't', 't', 't', 't', 't', 't', 't', 't', 't', 't']\n",
      "s wexgwexgwengwanthttttttttttttttttttttttttttttttt\n",
      "['d', ' ', 'j', 'h', 'm', ' ', 'w', 'h', 'm', 'g', 'w', 'h', 'n', 'g', 'w', 'h', 'n', ' ', 't', 't', 't', 't', 't', 't', 't', 't', 't', 't', 't', 't', 't', 't', 't', 't', 't', 't', 't', 't', 't', 't', 't', 't', 't', 't', 't', 't', 't', 't', 't', 't']\n",
      "d jhm whmgwhngwhn tttttttttttttttttttttttttttttttt\n",
      "['f', 'f', 'f', 'o', 'm', 'g', 'w', 'o', 'x', 'g', 'x', 'g', 'r', 'g', 'r', 't', 'h', 't', 'h', 't', 't', 't', 't', 't', 't', 't', 't', 't', 't', 't', 't', 't', 't', 't', 't', 't', 't', 't', 't', 't', 't', 't', 't', 't', 't', 't', 't', 't', 't', 't']\n",
      "fffomgwoxgxgrgrththttttttttttttttttttttttttttttttt\n",
      "['g', 'h', 'w', ' ', 'j', 'h', 'w', 'h', 'j', 'h', 'w', 'h', 'w', 'h', 'w', 'h', 't', 'h', 't', 'h', 't', 't', 't', 't', 't', 't', 't', 't', 't', 't', 't', 't', 't', 't', 't', 't', 't', 't', 't', 't', 't', 't', 't', 't', 't', 't', 't', 't', 't', 't']\n",
      "ghw jhwhjhwhwhwhththtttttttttttttttttttttttttttttt\n",
      "['h', 'e', 'x', 'g', 'w', 'e', 'x', 'g', 'h', 'j', 'z', 'j', 'h', 'w', 'h', 'w', 'h', 't', 'h', 't', 'h', 't', 't', 't', 't', 't', 't', 't', 't', 't', 't', 't', 't', 't', 't', 't', 't', 't', 't', 't', 't', 't', 't', 't', 't', 't', 't', 't', 't', 't']\n",
      "hexgwexghjzjhwhwhththttttttttttttttttttttttttttttt\n",
      "['j', 'u', 'z', 'g', 'w', 'g', 'x', 'g', 'h', 'j', 'r', 'j', 'h', 'w', 'h', 'w', 'h', 't', 'h', 't', 'h', 't', 't', 't', 't', 't', 't', 't', 't', 't', 't', 't', 't', 't', 't', 't', 't', 't', 't', 't', 't', 't', 't', 't', 't', 't', 't', 't', 't', 't']\n",
      "juzgwgxghjrjhwhwhththttttttttttttttttttttttttttttt\n",
      "['k', 'e', 'x', 'h', 'm', 'g', 'x', 'h', 'w', 'g', 'x', 'h', 'n', 'g', 'r', 't', 'h', 't', ' ', 't', 't', 't', 't', 't', 't', 't', 't', 't', 't', 't', 't', 't', 't', 't', 't', 't', 't', 't', 't', 't', 't', 't', 't', 't', 't', 't', 't', 't', 't', 't']\n",
      "kexhmgxhwgxhngrtht ttttttttttttttttttttttttttttttt\n",
      "['l', 'l', 'l', 'j', 'u', 'z', 'z', 'j', 'h', 'w', ' ', 'j', 'h', 'w', ' ', 'w', 'h', 't', 'h', 't', 't', 't', 't', 't', 't', 't', 't', 't', 't', 't', 't', 't', 't', 't', 't', 't', 't', 't', 't', 't', 't', 't', 't', 't', 't', 't', 't', 't', 't', 't']\n",
      "llljuzzjhw jhw whthttttttttttttttttttttttttttttttt\n",
      "['q', 'u', 'z', 'k', 'w', 'g', 'x', 'j', 'u', 'g', 'x', 'j', 'h', 'g', ' ', 'w', 'h', 't', ' ', 't', 'h', 't', 't', 't', 't', 't', 't', 't', 't', 't', 't', 't', 't', 't', 't', 't', 't', 't', 't', 't', 't', 't', 't', 't', 't', 't', 't', 't', 't', 't']\n",
      "quzkwgxjugxjhg wht thttttttttttttttttttttttttttttt\n",
      "['w', 'a', 'n', 'g', 'w', 'h', 'z', 'g', 'w', 'h', 'n', 'g', 'w', 'b', 'n', 'd', ' ', 't', 'h', 't', 't', 't', 't', 't', 't', 't', 't', 't', 't', 't', 't', 't', 't', 't', 't', 't', 't', 't', 't', 't', 't', 't', 't', 't', 't', 't', 't', 't', 't', 't']\n",
      "wangwhzgwhngwbnd thttttttttttttttttttttttttttttttt\n",
      "['e', 'x', 'j', 'h', 'e', 'x', 'j', 'h', 'j', ' ', 'j', 'h', 'w', ' ', 'w', 'h', 't', 'h', 't', 'h', 't', 't', 't', 't', 't', 't', 't', 't', 't', 't', 't', 't', 't', 't', 't', 't', 't', 't', 't', 't', 't', 't', 't', 't', 't', 't', 't', 't', 't', 't']\n",
      "exjhexjhj jhw whththtttttttttttttttttttttttttttttt\n",
      "['r', 'e', 'x', 'o', 'n', 'g', 'x', 'j', 'n', 'g', 'x', 'j', 'h', 'w', ' ', 'w', 'h', 't', 'h', 't', 't', 't', 't', 't', 't', 't', 't', 't', 't', 't', 't', 't', 't', 't', 't', 't', 't', 't', 't', 't', 't', 't', 't', 't', 't', 't', 't', 't', 't', 't']\n",
      "rexongxjngxjhw whthttttttttttttttttttttttttttttttt\n",
      "['t', 'h', 'e', 'x', 'g', 'h', 'j', 'z', 'j', 'h', 'w', ' ', 'j', 'h', 'w', 'h', 'w', 'h', 't', 'h', 't', 't', 't', 't', 't', 't', 't', 't', 't', 't', 't', 't', 't', 't', 't', 't', 't', 't', 't', 't', 't', 't', 't', 't', 't', 't', 't', 't', 't', 't']\n",
      "thexghjzjhw jhwhwhthtttttttttttttttttttttttttttttt\n",
      "['y', ' ', 'j', 'h', 'x', ' ', 'w', 'h', 'v', 'g', 'w', 'h', 'n', 'g', 'w', 'h', 'n', ' ', 't', 't', 't', 't', 't', 't', 't', 't', 't', 't', 't', 't', 't', 't', 't', 't', 't', 't', 't', 't', 't', 't', 't', 't', 't', 't', 't', 't', 't', 't', 't', 't']\n",
      "y jhx whvgwhngwhn tttttttttttttttttttttttttttttttt\n",
      "['u', 'z', 'k', 'w', 'g', 'x', 'j', 'u', 'g', 'x', 'j', 'h', 'g', ' ', 'w', 'h', 't', ' ', 't', 'h', 't', 't', 't', 't', 't', 't', 't', 't', 't', 't', 't', 't', 't', 't', 't', 't', 't', 't', 't', 't', 't', 't', 't', 't', 't', 't', 't', 't', 't', 't']\n",
      "uzkwgxjugxjhg wht thtttttttttttttttttttttttttttttt\n",
      "['i', 'z', 'g', 'w', 'h', 'z', 'g', 'w', 'a', 'z', 'g', 'h', 'w', 'n', 'd', 'h', 't', 'h', 't', 'h', 't', 't', 't', 't', 't', 't', 't', 't', 't', 't', 't', 't', 't', 't', 't', 't', 't', 't', 't', 't', 't', 't', 't', 't', 't', 't', 't', 't', 't', 't']\n",
      "izgwhzgwazghwndhththtttttttttttttttttttttttttttttt\n",
      "['o', 'u', 'g', 'r', 'e', 'n', 'g', 'x', 'j', 'n', 'g', ' ', 'w', 'h', 'w', 'h', 't', 'h', 't', 'h', 't', 't', 't', 't', 't', 't', 't', 't', 't', 't', 't', 't', 't', 't', 't', 't', 't', 't', 't', 't', 't', 't', 't', 't', 't', 't', 't', 't', 't', 't']\n",
      "ougrengxjng whwhththtttttttttttttttttttttttttttttt\n",
      "['p', 'p', 'l', 'g', 'w', 'e', 'z', 'g', 'w', 'b', 'n', 'g', 'h', 'w', 'n', 'd', 'h', 't', 'h', 't', 't', 't', 't', 't', 't', 't', 't', 't', 't', 't', 't', 't', 't', 't', 't', 't', 't', 't', 't', 't', 't', 't', 't', 't', 't', 't', 't', 't', 't', 't']\n",
      "pplgwezgwbnghwndhthttttttttttttttttttttttttttttttt\n"
     ]
    }
   ],
   "source": [
    "for starting_letter in 'asdfghjklqwertyuiop':\n",
    "    x0 = np.eye(255)[ord(starting_letter)].reshape(-1, 1)\n",
    "    states = list(map(chr, range(255)))\n",
    "    print(''.join(most_likely(x0, T_en, 50, states)))"
   ]
  },
  {
   "cell_type": "markdown",
   "metadata": {},
   "source": [
    "Admittedly not that great. We can do better if at each step, we collapse the state down to whatever letter we chose in the previous step and add in an alternate sampling scheme. **This probably won't make sense! Ask about it in class**"
   ]
  },
  {
   "cell_type": "code",
   "execution_count": 52,
   "metadata": {},
   "outputs": [],
   "source": [
    "def evolve(x0, T, steps, states):\n",
    "    output = [states[np.argmax(x0)]]\n",
    "    for i in range(steps):\n",
    "        x0 = T.dot(x0)\n",
    "        x0 /= np.sum(x0) # Normalize probabilities\n",
    "        i = np.random.choice(np.arange(x0.shape[0]), p=x0.flatten()) # Random weighted sampling\n",
    "        output.append(states[i])\n",
    "        x0 = np.eye(x0.shape[0])[i]\n",
    "    return output"
   ]
  },
  {
   "cell_type": "code",
   "execution_count": 53,
   "metadata": {},
   "outputs": [
    {
     "name": "stdout",
     "output_type": "stream",
     "text": [
      "a ibustxpimf ttuzzzvexxxxvofly t boquperglybr vequn\n",
      "squlklyorizendsckd mewind f lyom izedozve qummpusck\n",
      "d mbofrvizzzzzzzzzzzzzzzzzzzzzzyizzzzzevecarldl key\n",
      "ffff huce ckilksasprowhaverrt vevess ck whaizzzzzzz\n",
      "gnquzzzzzzzzzzzzzzzzzzzzzzackidlknd oymowesoucckybu\n",
      "heythexxxxxxxckitoullngizzzzzzzzzzzzzzzzzzzzzzzzzzz\n",
      "joupoffighemembybime arspaspokshethevasthtrcknde qu\n",
      "kl qugspevexxxxclvermiswhasckllazzzzzzzzzzzzerpply \n",
      "lexxxxckevazzzzzzzzzzzzzzzzzzzzzzzzzzzzzzzzy qurord\n",
      "quban bug flky mff witequpofaybuppig jun wifubyouzz\n",
      "wickimstul prgumpghimppryoonke movexplupuchthuckyou\n",
      "eveilymelybll lugnfuthyerivebywixxxxvexxcanjug awhu\n",
      "rixxxcavencqughereardisthexxxxxxxxxxxxxxxxikickyzzz\n",
      "theryermixvizzzzzzzzzzzyoubulllfthen bundlgoxppppen\n",
      "y vexxxxxxirdlfoqumorme vevevecky pybaly my buarly \n",
      "ualyofonyoscarwexxizzzzzzzzzzzzzzzzzzzzzzzzzzzzerus\n",
      "im qulwep s ddrowing indmaxxxxxxt quzzzzzzzzzzzzz y\n",
      "ojulaceyofodngsisppirerckithalkick whersstchinvexxx\n",
      "pr angouzzzzzzeck blugumswizzzzzzzzzzzzyofowngojut \n"
     ]
    }
   ],
   "source": [
    "for starting_letter in 'asdfghjklqwertyuiop':\n",
    "    x0 = np.eye(255)[ord(starting_letter)].reshape(-1, 1)\n",
    "    states = list(map(chr, range(255)))\n",
    "    print(''.join(evolve(x0, T_en, 50, states)))"
   ]
  },
  {
   "cell_type": "markdown",
   "metadata": {},
   "source": [
    "A little better. Occasionally, we see actual english words. Still pretty bad though. But this is a pretty naive and basic model. Better models would be possible if we use more advanced algorithms."
   ]
  }
 ],
 "metadata": {
  "kernelspec": {
   "display_name": "Python 3",
   "language": "python",
   "name": "python3"
  },
  "language_info": {
   "codemirror_mode": {
    "name": "ipython",
    "version": 3
   },
   "file_extension": ".py",
   "mimetype": "text/x-python",
   "name": "python",
   "nbconvert_exporter": "python",
   "pygments_lexer": "ipython3",
   "version": "3.6.4"
  }
 },
 "nbformat": 4,
 "nbformat_minor": 2
}
