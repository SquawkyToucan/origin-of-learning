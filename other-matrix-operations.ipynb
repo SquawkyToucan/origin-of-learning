{
 "cells": [
  {
   "cell_type": "markdown",
   "metadata": {},
   "source": [
    "# Other Matrix Operations\n",
    "\n",
    "There are a variety of other matrix operations that are used within machine learning. Most of these are simpler than matrix multiplication, but regardless, they are important to know and use."
   ]
  },
  {
   "cell_type": "code",
   "execution_count": 211,
   "metadata": {},
   "outputs": [],
   "source": [
    "import numpy as np\n",
    "import matplotlib.pyplot"
   ]
  },
  {
   "cell_type": "markdown",
   "metadata": {},
   "source": [
    "## Transpose"
   ]
  },
  {
   "cell_type": "code",
   "execution_count": 212,
   "metadata": {},
   "outputs": [
    {
     "data": {
      "text/plain": [
       "array([[1, 4],\n",
       "       [2, 5],\n",
       "       [3, 6]])"
      ]
     },
     "execution_count": 212,
     "metadata": {},
     "output_type": "execute_result"
    }
   ],
   "source": [
    "A = np.array([[1, 2, 3],\n",
    "              [4, 5, 6]])\n",
    "A.T"
   ]
  },
  {
   "cell_type": "markdown",
   "metadata": {},
   "source": [
    "**Problem:** Write a function that does the transpose. If you need to, try working it out by hand first and then coding."
   ]
  },
  {
   "cell_type": "code",
   "execution_count": 213,
   "metadata": {},
   "outputs": [],
   "source": [
    "def transpose(A):\n",
    "    #I'd guess that it transfers the first column to the first row, second to second, and so on\n",
    "    R = np.empty([A.shape[1], A.shape[0]])\n",
    "    #For loop:\n",
    "    #Go through numbers in one\n",
    "    #For each number in one, add the number[s] below to the array as well\n",
    "    for k in range(A.shape[1]):\n",
    "        #Loops through each number on the top\n",
    "        for j in range(A.shape[0]):\n",
    "            #Then, go through each number below\n",
    "            #Add set (length, height) to array\n",
    "            R[k,j] = A[j,k]\n",
    "    return R"
   ]
  },
  {
   "cell_type": "code",
   "execution_count": 214,
   "metadata": {},
   "outputs": [
    {
     "name": "stdout",
     "output_type": "stream",
     "text": [
      "Success\n"
     ]
    }
   ],
   "source": [
    "for i in range(10):\n",
    "    shape = np.random.randint(low=1, high=100, size=2)\n",
    "    A = np.random.randn(*shape)\n",
    "    B = np.random.randn(*shape)\n",
    "    assert np.allclose(A.T, transpose(A))\n",
    "print('Success')"
   ]
  },
  {
   "cell_type": "markdown",
   "metadata": {},
   "source": [
    "**Problem:** Verify the first 3 properties of the matrix transpose listed in [Wikipedia](https://en.wikipedia.org/wiki/Transpose#Properties). Namely,\n",
    "\n",
    "$$\\begin{align}\n",
    "\\left(\\mathbf {A} ^{\\mathrm {T} }\\right)^{\\mathrm {T} }&=\\mathbf {A} \\quad  \\\\\n",
    "\\left(\\mathbf {A} +\\mathbf {B} \\right)^{\\mathrm {T} }&=\\mathbf {A} ^{\\mathrm {T} }+\\mathbf {B} ^{\\mathrm {T}} \\\\\n",
    "\\left(\\mathbf {AB} \\right)^{\\mathrm {T} } &=\\mathbf {B} ^{\\mathrm {T} }\\mathbf {A} ^{\\mathrm {T} }\n",
    "\\end{align}$$\n",
    "\n",
    "Use the built-in Numpy functions `A.dot(B)`, `A.T`, and `A + B` to demonstrate this numerically. Make sure you verify this for non-square matrices. Meaning ` A.shape[0] != A.shape[1] `."
   ]
  },
  {
   "cell_type": "code",
   "execution_count": 215,
   "metadata": {},
   "outputs": [
    {
     "name": "stdout",
     "output_type": "stream",
     "text": [
      "Involution works\n",
      "Respects Law of Addition\n",
      "Whatever the third law is\n"
     ]
    }
   ],
   "source": [
    "A = np.random.randn(*shape)\n",
    "B = np.random.randn(*shape)\n",
    "C = np.random.randn(shape[1], np.random.randint(1,10))\n",
    "assert np.allclose(A.T.T, A)\n",
    "print(\"Involution works\")\n",
    "assert np.allclose(A.T + B.T, (A+B).T)\n",
    "print(\"Respects Law of Addition\")\n",
    "assert np.allclose(A.dot(C).T, (C.T).dot(A.T))\n",
    "print(\"Whatever the third law is\")"
   ]
  },
  {
   "cell_type": "markdown",
   "metadata": {},
   "source": [
    "## Matrix-Vector Multiplication\n",
    "\n",
    "A matrix times a vector is the same as a matrix times a matrix if the second matrix is a column,"
   ]
  },
  {
   "cell_type": "code",
   "execution_count": 216,
   "metadata": {},
   "outputs": [
    {
     "name": "stdout",
     "output_type": "stream",
     "text": [
      "[[ 0  1  2  3  4  5]\n",
      " [ 6  7  8  9 10 11]\n",
      " [12 13 14 15 16 17]\n",
      " [18 19 20 21 22 23]\n",
      " [24 25 26 27 28 29]]\n",
      "[[0]\n",
      " [1]\n",
      " [2]\n",
      " [3]\n",
      " [4]\n",
      " [5]]\n",
      "[[ 55]\n",
      " [145]\n",
      " [235]\n",
      " [325]\n",
      " [415]]\n"
     ]
    }
   ],
   "source": [
    "A = np.arange(30).reshape((5, 6))\n",
    "b = np.arange(6).reshape((6, 1))\n",
    "print(A)\n",
    "print(b)\n",
    "print(A.dot(b))"
   ]
  },
  {
   "cell_type": "markdown",
   "metadata": {},
   "source": [
    "**Problem:** If I have a matrix $ A $ with shape `(N, M)` and multiply it by a vector $ x $. What shape must $ x $ be? What shape will $ A x $ be? Verify this numerically."
   ]
  },
  {
   "cell_type": "code",
   "execution_count": 217,
   "metadata": {},
   "outputs": [
    {
     "name": "stdout",
     "output_type": "stream",
     "text": [
      "N, M Array:\n",
      "[[ 0  1  2  3  4  5  6]\n",
      " [ 7  8  9 10 11 12 13]]\n",
      "Vector:\n",
      "[[0]\n",
      " [1]\n",
      " [2]\n",
      " [3]\n",
      " [4]\n",
      " [5]\n",
      " [6]]\n",
      "\n",
      "[[ 91]\n",
      " [238]]\n"
     ]
    }
   ],
   "source": [
    "import random\n",
    "shared = random.randint(1, 10)\n",
    "other = random.randint(1, 10)\n",
    "A = np.arange(shared * other).reshape((other, shared))\n",
    "b = np.arange(shared * 1).reshape((shared, 1))\n",
    "print(\"N, M Array:\")\n",
    "print(A)\n",
    "print(\"Vector:\")\n",
    "print(b)\n",
    "print(\"\")\n",
    "print(A.dot(b))"
   ]
  },
  {
   "cell_type": "markdown",
   "metadata": {},
   "source": [
    "## Symmetric Matrices\n",
    "\n",
    "Symmetric matrices are such that $ S = S^T $. We can make symmetric matrices by taking any square matrix $ A $ and doing $ S = A + A^T $.\n",
    "\n",
    "**Problem:** Verify this numerically with a few randomly generated examples and then prove it analytically."
   ]
  },
  {
   "cell_type": "code",
   "execution_count": 218,
   "metadata": {},
   "outputs": [
    {
     "name": "stdout",
     "output_type": "stream",
     "text": [
      "[[1.35444516 0.92397187]\n",
      " [0.92397187 2.61149718]]\n",
      "[[1.35444516 0.92397187]\n",
      " [0.92397187 2.61149718]]\n"
     ]
    }
   ],
   "source": [
    "#S = S(T)\n",
    "#square matrix A plus A(T) is equal to S\n",
    "shape = np.random.randint(low = 2, high = 3, size = 2)\n",
    "A = np.random.randn(*shape)\n",
    "S = A + A.T\n",
    "print(S)\n",
    "print(S.T)"
   ]
  },
  {
   "cell_type": "markdown",
   "metadata": {},
   "source": [
    "You can also make symmetric matrices by doing $ S = A^T A $.\n",
    "\n",
    "**Problem:** Verify this numerically with a few randomly generated examples and then prove it analytically."
   ]
  },
  {
   "cell_type": "code",
   "execution_count": 219,
   "metadata": {},
   "outputs": [
    {
     "name": "stdout",
     "output_type": "stream",
     "text": [
      "[[1.51745577 1.2724831 ]\n",
      " [1.2724831  1.71600869]]\n",
      "[[1.51745577 1.2724831 ]\n",
      " [1.2724831  1.71600869]]\n"
     ]
    }
   ],
   "source": [
    "S = A.T.dot(A)\n",
    "print(S)\n",
    "print(S.T)"
   ]
  },
  {
   "cell_type": "markdown",
   "metadata": {},
   "source": [
    "Symmetric matrices like $ S = A^T A $ have a special property under multiplication. Namely for any vector $ z $ of the correct shape, $ z^T A^T A z \\geq 0 $ regardless of the matrix $ A $.\n",
    "\n",
    "**Problem:** Demonstrate this numerically by running random examples. If you know how, prove this analytically after."
   ]
  },
  {
   "cell_type": "code",
   "execution_count": null,
   "metadata": {},
   "outputs": [],
   "source": []
  },
  {
   "cell_type": "code",
   "execution_count": null,
   "metadata": {},
   "outputs": [],
   "source": []
  }
 ],
 "metadata": {
  "kernelspec": {
   "display_name": "Python 3",
   "language": "python",
   "name": "python3"
  },
  "language_info": {
   "codemirror_mode": {
    "name": "ipython",
    "version": 3
   },
   "file_extension": ".py",
   "mimetype": "text/x-python",
   "name": "python",
   "nbconvert_exporter": "python",
   "pygments_lexer": "ipython3",
   "version": "3.6.4"
  }
 },
 "nbformat": 4,
 "nbformat_minor": 2
}
