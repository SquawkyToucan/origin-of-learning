{
 "cells": [
  {
   "cell_type": "markdown",
   "metadata": {},
   "source": [
    "# Summing over certain Axis\n",
    "\n",
    "Summation of a multi-dimensional array can occur over multiple axis. For example,"
   ]
  },
  {
   "cell_type": "code",
   "execution_count": 1,
   "metadata": {},
   "outputs": [],
   "source": [
    "import numpy as np\n",
    "import matplotlib.pyplot as plt"
   ]
  },
  {
   "cell_type": "code",
   "execution_count": 2,
   "metadata": {},
   "outputs": [
    {
     "name": "stdout",
     "output_type": "stream",
     "text": [
      "[[ 0  1  2  3  4]\n",
      " [ 5  6  7  8  9]\n",
      " [10 11 12 13 14]\n",
      " [15 16 17 18 19]]\n",
      "Over axis=0 [30 34 38 42 46]\n",
      "Over axis=1 [10 35 60 85]\n"
     ]
    }
   ],
   "source": [
    "A = np.arange(20).reshape(4, 5)\n",
    "print(A)\n",
    "print('Over axis=0', np.sum(A, axis=0))\n",
    "print('Over axis=1', np.sum(A, axis=1))"
   ]
  },
  {
   "cell_type": "markdown",
   "metadata": {},
   "source": [
    "Notice the difference in output shape for the two summations.\n",
    "\n",
    "**Problem:** Figure out how `np.sum` works over different axis. Try playing with different sized arrays. Like try summing `np.arange(3*4*5).reshape(3, 4, 5)` over different axis. Then implement your own version of the summation. Write test cases to verify it works"
   ]
  },
  {
   "cell_type": "code",
   "execution_count": 18,
   "metadata": {},
   "outputs": [
    {
     "name": "stdout",
     "output_type": "stream",
     "text": [
      "[10, 35, 60, 85]\n",
      "[30, 34, 38, 42, 46]\n",
      "[1056, 1089]\n",
      "[1, 5, 9, 13, 17, 21, 25, 29, 33, 37, 41, 45, 49, 53, 57, 61, 65, 69, 73, 77, 81, 85, 89, 93, 97, 101, 105, 109, 113, 117, 121, 125, 129]\n"
     ]
    },
    {
     "data": {
      "text/plain": [
       "[1,\n",
       " 5,\n",
       " 9,\n",
       " 13,\n",
       " 17,\n",
       " 21,\n",
       " 25,\n",
       " 29,\n",
       " 33,\n",
       " 37,\n",
       " 41,\n",
       " 45,\n",
       " 49,\n",
       " 53,\n",
       " 57,\n",
       " 61,\n",
       " 65,\n",
       " 69,\n",
       " 73,\n",
       " 77,\n",
       " 81,\n",
       " 85,\n",
       " 89,\n",
       " 93,\n",
       " 97,\n",
       " 101,\n",
       " 105,\n",
       " 109,\n",
       " 113,\n",
       " 117,\n",
       " 121,\n",
       " 125,\n",
       " 129]"
      ]
     },
     "execution_count": 18,
     "metadata": {},
     "output_type": "execute_result"
    }
   ],
   "source": [
    "def my_sum(x, axis):\n",
    "    # Works with axis=0 or axis=1 but otherwise fails\n",
    "    final = []\n",
    "    if(axis == 1):\n",
    "        for j in range(x.shape[0]):\n",
    "            temp = 0\n",
    "            for i in range(x.shape[1]):\n",
    "                # Go through each number downwards\n",
    "                temp = temp + x[j, i]\n",
    "            final.append(temp)\n",
    "    elif(axis == 0):\n",
    "        for j in range(x.shape[1]):\n",
    "            temp = 0;\n",
    "            for i in range(x.shape[0]):\n",
    "                temp = temp + x[i, j]\n",
    "            final.append(temp)\n",
    "    print(final)\n",
    "    return final\n",
    "# Add test cases\n",
    "my_sum(A, axis=1)\n",
    "my_sum(A, axis=0)\n",
    "B = np.arange(66).reshape(33, 2)\n",
    "my_sum(B, axis=0)\n",
    "my_sum(B, axis=1)"
   ]
  },
  {
   "cell_type": "markdown",
   "metadata": {},
   "source": [
    "# Cumulative Summation\n",
    "\n",
    "Sometimes, it is important to get a running total of something. This can be done with [`np.cumsum`](https://docs.scipy.org/doc/numpy-1.13.0/reference/generated/numpy.cumsum.html),"
   ]
  },
  {
   "cell_type": "code",
   "execution_count": 4,
   "metadata": {},
   "outputs": [
    {
     "name": "stdout",
     "output_type": "stream",
     "text": [
      "[0 1 2 3 4 5 6 7 8 9]\n",
      "[ 0  1  3  6 10 15 21 28 36 45]\n"
     ]
    }
   ],
   "source": [
    "print(np.arange(10))\n",
    "print(np.cumsum(np.arange(10)))"
   ]
  },
  {
   "cell_type": "markdown",
   "metadata": {},
   "source": [
    "**Problem:** Figure out how cumsum works and write your own implementation with test cases."
   ]
  },
  {
   "cell_type": "code",
   "execution_count": 22,
   "metadata": {},
   "outputs": [
    {
     "name": "stdout",
     "output_type": "stream",
     "text": [
      "[0, 1, 3, 6, 10, 15, 21, 28, 36, 45, 55]\n",
      "[0, 1, 3, 6, 10]\n"
     ]
    },
    {
     "data": {
      "text/plain": [
       "[0, 1, 3, 6, 10]"
      ]
     },
     "execution_count": 22,
     "metadata": {},
     "output_type": "execute_result"
    }
   ],
   "source": [
    "def my_cumsum(x):\n",
    "    antwort = []\n",
    "    num = 0\n",
    "    for i in range(x.shape[0]):\n",
    "        num = num + x[i]\n",
    "        antwort.append(num)\n",
    "    print(antwort)\n",
    "    return antwort\n",
    "# Add test cases\n",
    "my_cumsum(np.arange(11))\n",
    "my_cumsum(np.arange(5))"
   ]
  },
  {
   "cell_type": "markdown",
   "metadata": {},
   "source": [
    "# Discrete Integration\n",
    "\n",
    "Scary word for cumulative summation. Let's look at an application.\n",
    "\n",
    "**Problem:** Imagine we are looking at the output of a predictive system that forecasts Amazon sales for a particular item per day. We have a certain number of items in our various fulfillment centers called `quantity` and we would like to know when we are likely to run out of items due to sales. Use `np.sum` and `np.cumsum` to figure out when all the fulfillment centers will run out of items."
   ]
  },
  {
   "cell_type": "code",
   "execution_count": 33,
   "metadata": {},
   "outputs": [
    {
     "data": {
      "image/png": "[encoded data removed]",
      "text/plain": [
       "<matplotlib.figure.Figure at 0x10ee912e8>"
      ]
     },
     "metadata": {},
     "output_type": "display_data"
    }
   ],
   "source": [
    "quantity = np.array([10, 14, 23, 8])\n",
    "predicted_sales = np.random.randint(low=0, high=5, size=20)\n",
    "plt.plot(predicted_sales)\n",
    "plt.show()"
   ]
  },
  {
   "cell_type": "code",
   "execution_count": 34,
   "metadata": {},
   "outputs": [
    {
     "name": "stdout",
     "output_type": "stream",
     "text": [
      "[10 24 47 55]\n",
      "Day: \n",
      "1\n",
      "Amount left: \n",
      "53\n",
      " \n",
      "Day: \n",
      "2\n",
      "Amount left: \n",
      "50\n",
      " \n",
      "Day: \n",
      "3\n",
      "Amount left: \n",
      "48\n",
      " \n",
      "Day: \n",
      "4\n",
      "Amount left: \n",
      "47\n",
      " \n",
      "Day: \n",
      "5\n",
      "Amount left: \n",
      "46\n",
      " \n",
      "Day: \n",
      "6\n",
      "Amount left: \n",
      "44\n",
      " \n",
      "Day: \n",
      "7\n",
      "Amount left: \n",
      "44\n",
      " \n",
      "Day: \n",
      "8\n",
      "Amount left: \n",
      "43\n",
      " \n",
      "Day: \n",
      "9\n",
      "Amount left: \n",
      "42\n",
      " \n",
      "Day: \n",
      "10\n",
      "Amount left: \n",
      "40\n",
      " \n",
      "Day: \n",
      "11\n",
      "Amount left: \n",
      "40\n",
      " \n",
      "Day: \n",
      "12\n",
      "Amount left: \n",
      "37\n",
      " \n",
      "Day: \n",
      "13\n",
      "Amount left: \n",
      "36\n",
      " \n",
      "Day: \n",
      "14\n",
      "Amount left: \n",
      "36\n",
      " \n",
      "Day: \n",
      "15\n",
      "Amount left: \n",
      "32\n",
      " \n",
      "Day: \n",
      "16\n",
      "Amount left: \n",
      "30\n",
      " \n",
      "Day: \n",
      "17\n",
      "Amount left: \n",
      "29\n",
      " \n",
      "Day: \n",
      "18\n",
      "Amount left: \n",
      "27\n",
      " \n",
      "Day: \n",
      "19\n",
      "Amount left: \n",
      "25\n",
      " \n",
      "Day: \n",
      "20\n",
      "Amount left: \n",
      "23\n",
      " \n"
     ]
    }
   ],
   "source": [
    "# Find out when we run out of items\n",
    "total = np.cumsum(quantity)\n",
    "print(total)\n",
    "totalnum = total[total.shape[0]-1]\n",
    "# Use totalnum and subtract the quantity each day until totalnum < quantity, that is when the fulfillment center runs out\n",
    "for i in range(predicted_sales.shape[0]):\n",
    "    # Subtract if there are enough items\n",
    "    if(totalnum > predicted_sales[i-1]):\n",
    "        totalnum = totalnum - predicted_sales[i - 1]\n",
    "        print(\"Day: \")\n",
    "        print(i + 1)\n",
    "        print(\"Amount left: \")\n",
    "        print(totalnum)\n",
    "        print(\" \")\n",
    "    else:\n",
    "        print(\"\")\n",
    "        print(\"You ran out on day: \")\n",
    "        print(i + 1)"
   ]
  },
  {
   "cell_type": "markdown",
   "metadata": {},
   "source": [
    "**Problem:** Now, imagine that we have one fulfillment center, but it has a replenishment schedule where new shipments of items come in and we need to update the quantity. Find the total quantity given the sales. The quantity is the initial quantity plus the cumulative sum of the replenishment minus the items lost due to sales."
   ]
  },
  {
   "cell_type": "code",
   "execution_count": 39,
   "metadata": {},
   "outputs": [
    {
     "name": "stdout",
     "output_type": "stream",
     "text": [
      "Day: \n",
      "1\n",
      "Amount left: \n",
      "11\n",
      " \n",
      "Day: \n",
      "2\n",
      "Amount left: \n",
      "9\n",
      " \n",
      "Day: \n",
      "3\n",
      "Amount left: \n",
      "7\n",
      " \n",
      "Day: \n",
      "4\n",
      "Amount left: \n",
      "6\n",
      " \n",
      "Day: \n",
      "5\n",
      "Amount left: \n",
      "5\n",
      " \n",
      "Day: \n",
      "6\n",
      "Amount left: \n",
      "5\n",
      " \n",
      "Day: \n",
      "7\n",
      "Amount left: \n",
      "9\n",
      " \n",
      "Day: \n",
      "8\n",
      "Amount left: \n",
      "11\n",
      " \n",
      "Day: \n",
      "9\n",
      "Amount left: \n",
      "10\n",
      " \n",
      "Day: \n",
      "10\n",
      "Amount left: \n",
      "12\n",
      " \n",
      "Day: \n",
      "11\n",
      "Amount left: \n",
      "14\n",
      " \n",
      "Day: \n",
      "12\n",
      "Amount left: \n",
      "11\n",
      " \n",
      "Day: \n",
      "13\n",
      "Amount left: \n",
      "12\n",
      " \n",
      "Day: \n",
      "14\n",
      "Amount left: \n",
      "16\n",
      " \n",
      "Day: \n",
      "15\n",
      "Amount left: \n",
      "13\n",
      " \n",
      "Day: \n",
      "16\n",
      "Amount left: \n",
      "13\n",
      " \n",
      "Day: \n",
      "17\n",
      "Amount left: \n",
      "14\n",
      " \n",
      "Day: \n",
      "18\n",
      "Amount left: \n",
      "16\n",
      " \n",
      "Day: \n",
      "19\n",
      "Amount left: \n",
      "18\n",
      " \n",
      "Day: \n",
      "20\n",
      "Amount left: \n",
      "17\n",
      " \n"
     ]
    }
   ],
   "source": [
    "initial_quantity = 10\n",
    "replensishment = np.random.randint(low=0, high=5, size=20)\n",
    "sales = np.random.randint(low=0, high=5, size=20)\n",
    "# Find out when we run out of items\n",
    "# Use totalnum and subtract the quantity each day until totalnum < quantity, that is when the fulfillment center runs out\n",
    "for i in range(sales.shape[0]):\n",
    "    # Subtract if there are enough items\n",
    "    if(initial_quantity + replensishment[i-1] > sales[i-1]):\n",
    "        initial_quantity = initial_quantity - predicted_sales[i - 1] + replensishment[i-1]\n",
    "        print(\"Day: \")\n",
    "        print(i + 1)\n",
    "        print(\"Amount left: \")\n",
    "        print(initial_quantity)\n",
    "        print(\" \")\n",
    "    else:\n",
    "        print(\"\")\n",
    "        print(\"You ran out on day: \")\n",
    "        print(i + 1)"
   ]
  }
 ],
 "metadata": {
  "kernelspec": {
   "display_name": "Python 3",
   "language": "python",
   "name": "python3"
  },
  "language_info": {
   "codemirror_mode": {
    "name": "ipython",
    "version": 3
   },
   "file_extension": ".py",
   "mimetype": "text/x-python",
   "name": "python",
   "nbconvert_exporter": "python",
   "pygments_lexer": "ipython3",
   "version": "3.6.4"
  }
 },
 "nbformat": 4,
 "nbformat_minor": 2
}
