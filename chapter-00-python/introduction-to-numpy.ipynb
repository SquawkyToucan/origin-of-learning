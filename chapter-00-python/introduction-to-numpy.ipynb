{
 "cells": [
  {
   "cell_type": "markdown",
   "metadata": {},
   "source": [
    "# Arrays"
   ]
  },
  {
   "cell_type": "code",
   "execution_count": 1,
   "metadata": {},
   "outputs": [],
   "source": [
    "import numpy as np"
   ]
  },
  {
   "cell_type": "markdown",
   "metadata": {},
   "source": [
    "Python arrays are made by doing `a = []`. We can covert any normal array to a numpy array and vice-versa.\n",
    "\n",
    "**Problem**: Look at the simple array creation routine [`np.array()`](https://docs.scipy.org/doc/numpy-1.14.0/reference/generated/numpy.array.html#numpy.array). Using for-loops and converting a native python array, recreate the numpy arrays below."
   ]
  },
  {
   "cell_type": "code",
   "execution_count": 2,
   "metadata": {},
   "outputs": [
    {
     "name": "stdout",
     "output_type": "stream",
     "text": [
      "[ 0  1  2  3  4  5  6  7  8  9 10 11 12 13 14 15 16 17 18 19 20 21 22 23]\n",
      "[[ 0  1  2  3  4  5  6  7]\n",
      " [ 8  9 10 11 12 13 14 15]\n",
      " [16 17 18 19 20 21 22 23]]\n",
      "[[[ 0  1]\n",
      "  [ 2  3]\n",
      "  [ 4  5]\n",
      "  [ 6  7]]\n",
      "\n",
      " [[ 8  9]\n",
      "  [10 11]\n",
      "  [12 13]\n",
      "  [14 15]]\n",
      "\n",
      " [[16 17]\n",
      "  [18 19]\n",
      "  [20 21]\n",
      "  [22 23]]]\n"
     ]
    }
   ],
   "source": [
    "A = np.arange(24)\n",
    "print(A)\n",
    "\n",
    "B = np.arange(24).reshape((3, 8))\n",
    "print(B)\n",
    "\n",
    "C = np.arange(24).reshape((3, 4, 2))\n",
    "print(C)"
   ]
  },
  {
   "cell_type": "markdown",
   "metadata": {},
   "source": [
    "**Problem**: Look at the other [array creation routines](https://docs.scipy.org/doc/numpy-1.14.0/reference/routines.array-creation.html#routines-array-creation). Using native python lists and `np.array()` write your own versions of some of the functions below."
   ]
  },
  {
   "cell_type": "code",
   "execution_count": 3,
   "metadata": {},
   "outputs": [],
   "source": [
    "def ones(shape):\n",
    "    return np.ones(shape)\n",
    "\n",
    "def zeros(shape):\n",
    "    return np.zeros(shape)\n",
    "\n",
    "def eye(n):\n",
    "    return np.eye(n)\n",
    "\n",
    "def arange(start, end, inc):\n",
    "    return np.arange(start, end, inc)"
   ]
  },
  {
   "cell_type": "markdown",
   "metadata": {},
   "source": [
    "# Other data types\n",
    "\n",
    "Numpy can handle a variety of [data types](https://docs.scipy.org/doc/numpy-1.13.0/user/basics.types.html).\n",
    "\n",
    "**Problem**: Make arrays with the following data types: `np.float`, `np.bool`, `np.int`, `np.uint8`. Practice adding them together, casting between data types, and other things."
   ]
  },
  {
   "cell_type": "code",
   "execution_count": null,
   "metadata": {},
   "outputs": [],
   "source": []
  },
  {
   "cell_type": "markdown",
   "metadata": {},
   "source": [
    "# Indexing\n",
    "\n",
    "**Problem**: Using the below array, figure out how to [index](https://docs.scipy.org/doc/numpy-1.14.0/reference/arrays.indexing.html) into it correctly to get the commented out array"
   ]
  },
  {
   "cell_type": "code",
   "execution_count": 9,
   "metadata": {},
   "outputs": [],
   "source": [
    "A = np.arange(5*6*7).reshape((5, 6, 7))\n",
    "\n",
    "# array([0, 1, 2, 3, 4, 5, 6])\n",
    "A[:]\n",
    "\n",
    "# array([45, 52, 59, 66, 73, 80])\n",
    "A[:]\n",
    "\n",
    "# array([10, 94])\n",
    "A[:]\n",
    "\n",
    "pass"
   ]
  },
  {
   "cell_type": "markdown",
   "metadata": {},
   "source": [
    "# Random\n",
    "\n",
    "**Problem**: From the [Numpy Random](https://docs.scipy.org/doc/numpy-1.14.0/reference/routines.random.html) library, generate 1000 random numbers using `np.random.rand`, `np.random.randn`, `np.random.randint` and then use [Numpy statistics](https://docs.scipy.org/doc/numpy-1.14.0/reference/routines.statistics.html) to compute the mean, std, median, min, and max for each generates set of random numbers."
   ]
  },
  {
   "cell_type": "code",
   "execution_count": null,
   "metadata": {},
   "outputs": [],
   "source": []
  },
  {
   "cell_type": "markdown",
   "metadata": {},
   "source": [
    "# What do you do when you have no idea what the function does\n",
    "\n",
    "That happens a lot. And so you kind of just have to figure things out.\n",
    "\n",
    "**Problem**: Use StackOverflow, Wikipedia, documentation, trial and error to figure out what [this](https://docs.scipy.org/doc/scipy/reference/generated/scipy.special.legendre.html) does and is useful for. *Hint, its a special kind of function like `sin` or `cos`, but it is used in a slightly odd way. You can find examples on the internet using the resources I mentioned previously.* Plot them using `plt.plot` too."
   ]
  },
  {
   "cell_type": "code",
   "execution_count": 10,
   "metadata": {},
   "outputs": [],
   "source": [
    "import matplotlib.pyplot as plt"
   ]
  },
  {
   "cell_type": "markdown",
   "metadata": {},
   "source": [
    "# Project Euler Questions\n",
    "\n",
    "**Problem**: Solve Problem [6](https://projecteuler.net/problem=6), [8](https://projecteuler.net/problem=8), [10](https://projecteuler.net/problem=10). You should Google for numpy functions that help you."
   ]
  }
 ],
 "metadata": {
  "kernelspec": {
   "display_name": "Python 3",
   "language": "python",
   "name": "python3"
  },
  "language_info": {
   "codemirror_mode": {
    "name": "ipython",
    "version": 3
   },
   "file_extension": ".py",
   "mimetype": "text/x-python",
   "name": "python",
   "nbconvert_exporter": "python",
   "pygments_lexer": "ipython3",
   "version": "3.6.4"
  }
 },
 "nbformat": 4,
 "nbformat_minor": 2
}
