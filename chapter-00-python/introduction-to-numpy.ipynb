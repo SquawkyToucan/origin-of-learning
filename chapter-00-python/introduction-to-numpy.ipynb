{
 "cells": [
  {
   "cell_type": "markdown",
   "metadata": {},
   "source": [
    "# Arrays"
   ]
  },
  {
   "cell_type": "code",
   "execution_count": 2,
   "metadata": {},
   "outputs": [],
   "source": [
    "import numpy as np"
   ]
  },
  {
   "cell_type": "markdown",
   "metadata": {},
   "source": [
    "Python arrays are made by doing `a = []`. We can covert any normal array to a numpy array and vice-versa.\n",
    "\n",
    "**Problem**: Look at the simple array creation routine [`np.array()`](https://docs.scipy.org/doc/numpy-1.14.0/reference/generated/numpy.array.html#numpy.array). Using for-loops and converting a native python array, recreate the numpy arrays below."
   ]
  },
  {
   "cell_type": "code",
   "execution_count": 13,
   "metadata": {},
   "outputs": [
    {
     "name": "stdout",
     "output_type": "stream",
     "text": [
      "[ 0  1  2  3  4  5  6  7  8  9 10 11 12 13 14 15 16 17 18 19 20 21 22 23]\n",
      "[0, 1, 2, 3, 4, 5, 6, 7, 8, 9, 10, 11, 12, 13, 14, 15, 16, 17, 18, 19, 20, 21, 22, 23]\n",
      "[[ 0  1  2  3  4  5  6  7]\n",
      " [ 8  9 10 11 12 13 14 15]\n",
      " [16 17 18 19 20 21 22 23]]\n",
      "[[0, 1, 2, 3, 4, 5, 6, 7], [8, 9, 10, 11, 12, 13, 14, 15], [16, 17, 18, 19, 20, 21, 22, 23]]\n",
      "[[[ 0  1]\n",
      "  [ 2  3]\n",
      "  [ 4  5]\n",
      "  [ 6  7]]\n",
      "\n",
      " [[ 8  9]\n",
      "  [10 11]\n",
      "  [12 13]\n",
      "  [14 15]]\n",
      "\n",
      " [[16 17]\n",
      "  [18 19]\n",
      "  [20 21]\n",
      "  [22 23]]]\n",
      "[[[0, 1], [2, 3], [4, 5], [6, 7]], [[8, 9], [10, 11], [12, 13], [14, 15]], [[16, 17], [18, 19], [20, 21], [22, 23]]]\n"
     ]
    }
   ],
   "source": [
    "A = np.arange(24)\n",
    "print(A)\n",
    "\n",
    "a = []\n",
    "for i in range(24):\n",
    "    a.append(i)\n",
    "print(a)\n",
    "\n",
    "B = np.arange(24).reshape((3, 8))\n",
    "print(B)\n",
    "\n",
    "b = []\n",
    "for i in range(3):\n",
    "    temp = []\n",
    "    for j in range(8):\n",
    "        temp.append((j)+8*i)\n",
    "    b.append(temp)\n",
    "print(b)\n",
    "\n",
    "C = np.arange(24).reshape((3, 4, 2))\n",
    "print(C)\n",
    "\n",
    "c = []\n",
    "for i in range(3):\n",
    "    firstTemp = []\n",
    "    for j in range(4):\n",
    "        secondTemp = []\n",
    "        for k in range(2):\n",
    "            secondTemp.append(k+(2*j)+(8*i))\n",
    "        firstTemp.append(secondTemp)\n",
    "    c.append(firstTemp)\n",
    "print(c)"
   ]
  },
  {
   "cell_type": "markdown",
   "metadata": {},
   "source": [
    "**Problem**: Look at the other [array creation routines](https://docs.scipy.org/doc/numpy-1.14.0/reference/routines.array-creation.html#routines-array-creation). Using native python lists and `np.array()` write your own versions of some of the functions below."
   ]
  },
  {
   "cell_type": "code",
   "execution_count": 41,
   "metadata": {},
   "outputs": [
    {
     "name": "stdout",
     "output_type": "stream",
     "text": [
      "None\n",
      "[[1. 0. 0. 0. 0.]\n",
      " [0. 1. 0. 0. 0.]\n",
      " [0. 0. 1. 0. 0.]\n",
      " [0. 0. 0. 1. 0.]\n",
      " [0. 0. 0. 0. 1.]]\n",
      "[0, 2, 4, 6, 8, 10, 12, 14, 16, 18, 20, 22, 24, 26, 28, 30, 32, 34, 36, 38, 40, 42, 44, 46, 48, 50, 52, 54, 56, 58, 60, 62, 64, 66, 68, 70, 72, 74, 76, 78, 80, 82, 84, 86, 88, 90, 92, 94, 96, 98]\n"
     ]
    }
   ],
   "source": [
    "def ones(shape):\n",
    "    help(shape, 1)\n",
    "\n",
    "def help(shape, num):\n",
    "    ret = []\n",
    "    if(len(shape) >= 1):\n",
    "        for i in range(shape[0]):\n",
    "            ret.append(help(shape[1:], num))\n",
    "        return ret\n",
    "    else:\n",
    "        return [num]\n",
    "\n",
    "pain = [5,3]\n",
    "print(ones(pain))\n",
    "def zeros(shape):\n",
    "    return help(shape,0)\n",
    "\n",
    "def eye(n):\n",
    "    ret = []\n",
    "    for i in range (n):\n",
    "        temp = []\n",
    "        for j in range (n):\n",
    "            if(i == j):\n",
    "                temp.append(1)\n",
    "            else:\n",
    "                temp.append(0)\n",
    "        ret.append(temp)\n",
    "    return np.eye(n)\n",
    "print(eye(5))\n",
    "\n",
    "def arange(start, end, inc):\n",
    "    ret = []\n",
    "    for i in range (start, end, inc):\n",
    "        ret.append((i))\n",
    "    return ret\n",
    "\n",
    "print(arange(0,100,2))"
   ]
  },
  {
   "cell_type": "markdown",
   "metadata": {},
   "source": [
    "# Other data types\n",
    "\n",
    "Numpy can handle a variety of [data types](https://docs.scipy.org/doc/numpy-1.13.0/user/basics.types.html).\n",
    "\n",
    "**Problem**: Make arrays with the following data types: `np.float`, `np.bool`, `np.int`, `np.uint8`. Practice adding them together, casting between data types, and other things."
   ]
  },
  {
   "cell_type": "code",
   "execution_count": 45,
   "metadata": {},
   "outputs": [
    {
     "name": "stdout",
     "output_type": "stream",
     "text": [
      "[0 1]\n",
      "[False  True]\n",
      "[0 1]\n",
      "[0 1]\n"
     ]
    }
   ],
   "source": [
    "A = np.array([0, 1])\n",
    "print(A)\n",
    "B = A.astype(np.bool)\n",
    "print(B)\n",
    "C = B.astype(np.int64)\n",
    "print(C)\n",
    "D = C.astype(np.uint8)\n",
    "print(D)"
   ]
  },
  {
   "cell_type": "markdown",
   "metadata": {},
   "source": [
    "# Indexing\n",
    "\n",
    "**Problem**: Using the below array, figure out how to [index](https://docs.scipy.org/doc/numpy-1.14.0/reference/arrays.indexing.html) into it correctly to get the commented out array"
   ]
  },
  {
   "cell_type": "code",
   "execution_count": 72,
   "metadata": {},
   "outputs": [
    {
     "name": "stdout",
     "output_type": "stream",
     "text": [
      "[0 1 2 3 4 5 6]\n",
      "72\n"
     ]
    }
   ],
   "source": [
    "A = np.arange(5*6*7).reshape((5, 6, 7))\n",
    "\n",
    "# array([0, 1, 2, 3, 4, 5, 6])\n",
    "print(A[0, 0, :])\n",
    "\n",
    "# array([45, 52, 59, 66, 73, 80])\n",
    "# pattern of seven\n",
    "# hōrizontical, vėrtical, dépth (7)\n",
    "# if the depth is seven than it is along the horizontal\n",
    "print(A[1, 4, 2])\n",
    "\n",
    "# array([10, 94])\n",
    "A[:]\n",
    "\n",
    "pass"
   ]
  },
  {
   "cell_type": "markdown",
   "metadata": {},
   "source": [
    "# Random\n",
    "\n",
    "**Problem**: From the [Numpy Random](https://docs.scipy.org/doc/numpy-1.14.0/reference/routines.random.html) library, generate 1000 random numbers using `np.random.rand`, `np.random.randn`, `np.random.randint` and then use [Numpy statistics](https://docs.scipy.org/doc/numpy-1.14.0/reference/routines.statistics.html) to compute the mean, std, median, min, and max for each generates set of random numbers."
   ]
  },
  {
   "cell_type": "code",
   "execution_count": null,
   "metadata": {},
   "outputs": [],
   "source": []
  },
  {
   "cell_type": "markdown",
   "metadata": {},
   "source": [
    "# What do you do when you have no idea what the function does\n",
    "\n",
    "That happens a lot. And so you kind of just have to figure things out.\n",
    "\n",
    "**Problem**: Use StackOverflow, Wikipedia, documentation, trial and error to figure out what [this](https://docs.scipy.org/doc/scipy/reference/generated/scipy.special.legendre.html) does and is useful for. *Hint, its a special kind of function like `sin` or `cos`, but it is used in a slightly odd way. You can find examples on the internet using the resources I mentioned previously.* Plot them using `plt.plot` too."
   ]
  },
  {
   "cell_type": "code",
   "execution_count": 10,
   "metadata": {},
   "outputs": [],
   "source": [
    "import matplotlib.pyplot as plt"
   ]
  },
  {
   "cell_type": "markdown",
   "metadata": {},
   "source": [
    "# Project Euler Questions\n",
    "\n",
    "**Problem**: Solve Problem [6](https://projecteuler.net/problem=6), [8](https://projecteuler.net/problem=8), [10](https://projecteuler.net/problem=10). You should Google for numpy functions that help you."
   ]
  }
 ],
 "metadata": {
  "kernelspec": {
   "display_name": "Python 3",
   "language": "python",
   "name": "python3"
  },
  "language_info": {
   "codemirror_mode": {
    "name": "ipython",
    "version": 3
   },
   "file_extension": ".py",
   "mimetype": "text/x-python",
   "name": "python",
   "nbconvert_exporter": "python",
   "pygments_lexer": "ipython3",
   "version": "3.6.4"
  }
 },
 "nbformat": 4,
 "nbformat_minor": 2
}
