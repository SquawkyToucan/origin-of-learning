{
 "cells": [
  {
   "cell_type": "markdown",
   "metadata": {},
   "source": [
    "# Introduction to Python\n",
    "\n",
    "Python is great.\n",
    "\n",
    "**Problem** Write a for loop that sums the array below. Trying googling for `python for loop sum`"
   ]
  },
  {
   "cell_type": "code",
   "execution_count": 1,
   "metadata": {},
   "outputs": [],
   "source": [
    "A = [1, 2, 3, 4, 5]"
   ]
  },
  {
   "cell_type": "markdown",
   "metadata": {},
   "source": [
    "**Problem** Use the python built-in function `print(...)` to print the above array `A`"
   ]
  },
  {
   "cell_type": "code",
   "execution_count": 2,
   "metadata": {},
   "outputs": [
    {
     "name": "stdout",
     "output_type": "stream",
     "text": [
      "1\n",
      "2\n",
      "3\n",
      "4\n",
      "5\n"
     ]
    }
   ],
   "source": [
    "for i in A:\n",
    "    print(i)"
   ]
  },
  {
   "cell_type": "markdown",
   "metadata": {},
   "source": [
    "The library numpy is a great tool for mathematical programming. Try googling `numpy sum` and looking at the example code down at the bottom of the first link ([here just for completeness](https://docs.scipy.org/doc/numpy-1.14.0/reference/generated/numpy.sum.html))\n",
    "\n",
    "**Problem** Sum the below numpy array."
   ]
  },
  {
   "cell_type": "code",
   "execution_count": 3,
   "metadata": {},
   "outputs": [
    {
     "name": "stdout",
     "output_type": "stream",
     "text": [
      "15\n"
     ]
    }
   ],
   "source": [
    "import numpy as np\n",
    "A = np.array([1, 2, 3, 4, 5])\n",
    "print(A.sum())"
   ]
  },
  {
   "cell_type": "markdown",
   "metadata": {},
   "source": [
    "**Problem** Look at [`np.reshape`](https://docs.scipy.org/doc/numpy/reference/generated/numpy.reshape.html) and reshape the array `A` below to make it equivalent to `B`"
   ]
  },
  {
   "cell_type": "code",
   "execution_count": 6,
   "metadata": {},
   "outputs": [
    {
     "name": "stdout",
     "output_type": "stream",
     "text": [
      "[ 0  1  2  3  4  5  6  7  8  9 10 11 12 13 14 15 16 17 18 19]\n",
      "[[ 0  1  2  3  4]\n",
      " [ 5  6  7  8  9]\n",
      " [10 11 12 13 14]\n",
      " [15 16 17 18 19]]\n",
      "[[ 0  1  2  3  4  5  6  7  8  9 10 11 12 13 14 15 16 17 18 19]]\n"
     ]
    }
   ],
   "source": [
    "A = np.arange(20)\n",
    "B = np.array([[ 0,  1,  2,  3,  4],\n",
    "              [ 5,  6,  7,  8,  9],\n",
    "              [10, 11, 12, 13, 14],\n",
    "              [15, 16, 17, 18, 19]])\n",
    "print(A)\n",
    "print(B)\n",
    "print(B.reshape(1, 20))"
   ]
  },
  {
   "cell_type": "markdown",
   "metadata": {},
   "source": [
    "**Problem** Define a python function `f` that computes the sum of an array `A` passed in as the argument."
   ]
  },
  {
   "cell_type": "code",
   "execution_count": 8,
   "metadata": {},
   "outputs": [
    {
     "name": "stdout",
     "output_type": "stream",
     "text": [
      "66433\n"
     ]
    }
   ],
   "source": [
    "def f(A):\n",
    "    total = 0\n",
    "    for a in A:\n",
    "        total = total + a\n",
    "    print(total)\n",
    "\n",
    "f([546,13,65412,462])"
   ]
  },
  {
   "cell_type": "markdown",
   "metadata": {},
   "source": [
    "**Problem** Solve Project Euler Problem [1](https://projecteuler.net/problem=1) and [2](https://projecteuler.net/problem=2)."
   ]
  },
  {
   "cell_type": "code",
   "execution_count": 9,
   "metadata": {
    "scrolled": true
   },
   "outputs": [
    {
     "name": "stdout",
     "output_type": "stream",
     "text": [
      "233159\n",
      "233168\n",
      "None\n"
     ]
    }
   ],
   "source": [
    "problem_1_answer = (\n",
    "    np.sum(3*np.arange(int(1000/3))) + \n",
    "    np.sum(5*np.arange(int(1000/5))) - \n",
    "    np.sum(15*np.arange(int(1000/15)))\n",
    ")\n",
    "\n",
    "# Your solution\n",
    "def projectEuler1(A):\n",
    "    total = 0\n",
    "    for a in A:\n",
    "        if(a%3 == 0 or a%5 == 0):\n",
    "            total = total + a\n",
    "    print(total)\n",
    "\n",
    "print(problem_1_answer)\n",
    "print(projectEuler1(np.arange(1000)))"
   ]
  },
  {
   "cell_type": "code",
   "execution_count": 23,
   "metadata": {},
   "outputs": [
    {
     "name": "stdout",
     "output_type": "stream",
     "text": [
      "2\n",
      "10\n",
      "44\n",
      "188\n",
      "798\n",
      "3382\n",
      "14328\n",
      "60696\n",
      "257114\n",
      "1089154\n",
      "4613732\n",
      "4613732\n",
      "4613732\n"
     ]
    }
   ],
   "source": [
    "# Solve this one on your own.\n",
    "def fib():\n",
    "    i = 1\n",
    "    j = 1\n",
    "    final = [i, j]\n",
    "    while(i + j < 4000000):\n",
    "        final.append(i+j)\n",
    "        l = j\n",
    "        j = i + j\n",
    "        i = l\n",
    "    return final\n",
    "def projectEuler2():\n",
    "    use = fib()\n",
    "    total = 0\n",
    "    for a in use:\n",
    "        if(a%2 == 0):\n",
    "            total = total + a\n",
    "            print(total)\n",
    "    print(total)\n",
    "projectEuler2()\n",
    "def fib2():\n",
    "    i = 1\n",
    "    j = 1\n",
    "    final = [i, j]\n",
    "    yield i\n",
    "    yield j\n",
    "    while(i + j < 4000000):\n",
    "        yield i+j\n",
    "        l = j\n",
    "        j = i + j\n",
    "        i = l\n",
    "def projectEuler22():\n",
    "    total = 0;\n",
    "    for x in fib2():\n",
    "        if(x%2 == 0):\n",
    "            total = total + x\n",
    "    print(total)\n",
    "projectEuler22()"
   ]
  }
 ],
 "metadata": {
  "kernelspec": {
   "display_name": "Python 3",
   "language": "python",
   "name": "python3"
  },
  "language_info": {
   "codemirror_mode": {
    "name": "ipython",
    "version": 3
   },
   "file_extension": ".py",
   "mimetype": "text/x-python",
   "name": "python",
   "nbconvert_exporter": "python",
   "pygments_lexer": "ipython3",
   "version": "3.6.4"
  }
 },
 "nbformat": 4,
 "nbformat_minor": 2
}
