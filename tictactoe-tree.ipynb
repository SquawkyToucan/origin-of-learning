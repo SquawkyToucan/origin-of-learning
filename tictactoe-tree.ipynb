{
 "cells": [
  {
   "cell_type": "markdown",
   "metadata": {},
   "source": [
    "# Tic-Tac-Toe by Descending the Game Play Tree\n",
    "\n",
    "A simple game of tic-tac-toe can be encoded in a 3x3 matrix like below. With `-1` and `+1` as X and O respectively.\n",
    "\n",
    "> Actually used it the other way around but that shouldn't be much of a problem\n"
   ]
  },
  {
   "cell_type": "code",
   "execution_count": 2,
   "metadata": {},
   "outputs": [],
   "source": [
    "import numpy as np\n",
    "\n",
    "board = np.array([[-1, +1,  0],\n",
    "                  [0,  -1, +1],\n",
    "                  [0,  -1, +1]])"
   ]
  },
  {
   "cell_type": "markdown",
   "metadata": {},
   "source": [
    "**Problem**: Given a matrix like above, write a function that determines if there are empty tiles on the board. Look at [`np.any`](https://docs.scipy.org/doc/numpy/reference/generated/numpy.any.html)"
   ]
  },
  {
   "cell_type": "code",
   "execution_count": 3,
   "metadata": {},
   "outputs": [
    {
     "name": "stdout",
     "output_type": "stream",
     "text": [
      "True\n"
     ]
    }
   ],
   "source": [
    "def open(board):\n",
    "    return np.any(board==0)\n",
    "\n",
    "print(open(board))"
   ]
  },
  {
   "cell_type": "markdown",
   "metadata": {},
   "source": [
    "**Problem:** Write a similar function to see who has won the game. Return -1, 1, 0 for -1, +1, or nobody winning respectively."
   ]
  },
  {
   "cell_type": "code",
   "execution_count": 8,
   "metadata": {},
   "outputs": [
    {
     "data": {
      "text/plain": [
       "0"
      ]
     },
     "execution_count": 8,
     "metadata": {},
     "output_type": "execute_result"
    }
   ],
   "source": [
    "def check(board):\n",
    "    boardSumsDown = board.sum(0)\n",
    "    # Check for down winner\n",
    "    if(np.any(boardSumsDown == -3)):\n",
    "        return -1\n",
    "    if(np.any(boardSumsDown == 3)):\n",
    "        return 1\n",
    "    boardSumsAcross = board.sum(1)\n",
    "    # Check for across winner\n",
    "    if(np.any(boardSumsAcross == -3)):\n",
    "        return -1\n",
    "    if(np.any(boardSumsDown==3)):\n",
    "        return 1\n",
    "    # There's still no winner, check the diagonals\n",
    "    diagonala = board[0,0] + board[1,1] + board[2,2]\n",
    "    diagonalb = board[0,2] + board[1,1] + board[2,0]\n",
    "    if(diagonala == -3 or diagonalb == -3):\n",
    "        return -1\n",
    "    if(diagonala == 3 or diagonalb == 3):\n",
    "        return 1\n",
    "    return 0\n",
    "    \n",
    "check(board)"
   ]
  },
  {
   "cell_type": "markdown",
   "metadata": {},
   "source": [
    "Given a board with open spaces, we can add +1 or -1 to any of the open spaces to generate a possible next turn state.\n",
    "\n",
    "**Problem:** Given that it is `player`'s turn, generate a list of all the possible next game states for all the possible moves `player` could take."
   ]
  },
  {
   "cell_type": "code",
   "execution_count": 6,
   "metadata": {},
   "outputs": [],
   "source": [
    "def move(board, player):\n",
    "    # Create new array with all possibilities\n",
    "    boards = []\n",
    "    for i in range(board.shape[0]):\n",
    "        # Iterating through column\n",
    "        for j in range(board.shape[1]):\n",
    "            # Iterating through rows\n",
    "            if(board[j,i] == 0):\n",
    "                # If current spot = 0, create a new board and add the number\n",
    "                newBoard = board.copy()\n",
    "                newBoard[j,i] = player\n",
    "                boards.append(newBoard)\n",
    "    return boards"
   ]
  },
  {
   "cell_type": "markdown",
   "metadata": {},
   "source": [
    "If a player wishes to take any given move, we ought to rank the possible moves somehow.\n",
    "\n",
    "**Problem:** Think of a possible way to give a score for a given board that correlates to: high score ==> board will likely win, low score ==> board will likely lose. Implement this score. Be sure to take into consideration future game states.\n",
    "\n",
    "**Solution:**\n",
    "\n",
    "*oh boy is it a bad one*\n",
    "\n",
    "**If there's a winner, it returns 10. If they can't win, it returns -10.**\n",
    "\n",
    "Step One: Wins down a path are worth 0.75/steps down, losses are worth -0.6/steps down, this makes sure that closer things are prioritized. Paths are measured by going down the tree and finding numbers\n",
    "\n",
    "Step Two: The wins and losses are added\n",
    "\n",
    "Example:\n",
    "Loss two down: -0.3, \n",
    "Two wins three down: 0.5, \n",
    "Loss, win four down: 0.0375\n",
    "\n",
    "Score for path: 0.2375\n",
    "\n",
    "Another path could have an early win, but then many losses after.\n",
    "\n",
    "Win one down: 0.75\n",
    "Loss two down: -0.3\n",
    "Two losses three down: -0.2\n",
    "Win, loss four down: 0.0375\n",
    "\n",
    "Score for path: 0.2875\n",
    "\n",
    "This path is slightly better because of an early win."
   ]
  },
  {
   "cell_type": "code",
   "execution_count": 58,
   "metadata": {},
   "outputs": [
    {
     "name": "stdout",
     "output_type": "stream",
     "text": [
      "\n",
      "\n",
      "\n"
     ]
    },
    {
     "data": {
      "text/plain": [
       "-10"
      ]
     },
     "execution_count": 58,
     "metadata": {},
     "output_type": "execute_result"
    }
   ],
   "source": [
    "def score(board, player):\n",
    "    # go through\n",
    "    s = 0.0\n",
    "    moves = move(board, player)\n",
    "    # checks for winner\n",
    "    for i in range(len(moves)):\n",
    "        if(check(moves[i]) == player):\n",
    "            # winner move found\n",
    "            s = s + 4\n",
    "        else:\n",
    "            # winner not found\n",
    "            moves2 = move(board, player*-1)\n",
    "            for j in range(len(moves2)):\n",
    "                # all of the moves that opponent can make\n",
    "                if(check(moves2[j]) == player*-1):\n",
    "                    # winners found for opponent\n",
    "                    return -10\n",
    "                else:\n",
    "                    # winner not found on this path\n",
    "                    if(check(moves[i]) == player):\n",
    "                        s = s + 0.5\n",
    "                    else:\n",
    "                        # winner not found\n",
    "                        moves2 = move(board, player*-1)\n",
    "                        for j in range(len(moves2)):\n",
    "                            # all of the moves that opponent can make\n",
    "                            if(check(moves2[j]) == player*-1):\n",
    "                                # winners found for opponent\n",
    "                                s = s - 0.87\n",
    "    return s\n",
    "\n",
    "score(board, 1)\n",
    "print(\"\")\n",
    "print(\"\")\n",
    "print(\"\")\n",
    "score(board, -1)\n",
    "                    "
   ]
  },
  {
   "cell_type": "markdown",
   "metadata": {},
   "source": [
    "**Problem:** Implement a function so you can play the game. Display the board each turn and give the board a score. Use `input()` to collect user input for game play. Make sure your `score` makes intuitive sense. [Result](http://www.dictionary.com/browse/tragedy?s=t)"
   ]
  },
  {
   "cell_type": "code",
   "execution_count": 60,
   "metadata": {},
   "outputs": [
    {
     "name": "stdout",
     "output_type": "stream",
     "text": [
      "Going down by columns, pick the number zero you'd like to occupy (1-9)1\n",
      "[[1 0 0]\n",
      " [0 0 0]\n",
      " [0 0 0]]\n",
      "\n",
      "Going down by columns, pick the number zero you'd like to occupy (1-9)1\n",
      "[[ 1  0  0]\n",
      " [-1  0  0]\n",
      " [ 0  0  0]]\n",
      "\n",
      "Going down by columns, pick the number zero you'd like to occupy (1-9)1\n",
      "[[ 1  0  0]\n",
      " [-1  0  0]\n",
      " [ 1  0  0]]\n",
      "\n",
      "Going down by columns, pick the number zero you'd like to occupy (1-9)1\n",
      "[[ 1 -1  0]\n",
      " [-1  0  0]\n",
      " [ 1  0  0]]\n",
      "\n",
      "Going down by columns, pick the number zero you'd like to occupy (1-9)1\n",
      "[[ 1 -1  0]\n",
      " [-1  1  0]\n",
      " [ 1  0  0]]\n",
      "\n",
      "Going down by columns, pick the number zero you'd like to occupy (1-9)1\n",
      "[[ 1 -1  0]\n",
      " [-1  1  0]\n",
      " [ 1 -1  0]]\n",
      "\n",
      "Going down by columns, pick the number zero you'd like to occupy (1-9)1\n",
      "[[ 1 -1  1]\n",
      " [-1  1  0]\n",
      " [ 1 -1  0]]\n",
      "Winner is player 1\n",
      "\n"
     ]
    }
   ],
   "source": [
    "def human_user(board, player):\n",
    "    \"\"\"\n",
    "    For a board and a player, get the next game state by using `input` to get the players move\n",
    "    \n",
    "    return the board for the next game state\n",
    "    \"\"\"\n",
    "    user = input(\"Going down by columns, pick the number zero you'd like to occupy (1-9)\")\n",
    "    board = move(board, player)[int(user)-1]\n",
    "    return board\n",
    "    \n",
    "def play(player1_input=human_user, player2_input=human_user):\n",
    "    \"\"\"\n",
    "    User player1_input and player2_input to get the next game state.\n",
    "    \n",
    "    play until someone has won the game.\n",
    "    \"\"\"\n",
    "    rge = np.array([[0, 0,  0],\n",
    "            [0,  0, 0],\n",
    "             [0,  0, 0]])\n",
    "    winner = False\n",
    "    currentlyUp = 1\n",
    "    while(winner == False):\n",
    "        if(currentlyUp == 1):\n",
    "            rge = player1_input(rge,1)\n",
    "        else:\n",
    "            rge = player2_input(rge,-1)\n",
    "        print(rge)\n",
    "        if(check(rge) == 1):\n",
    "            winner = True\n",
    "            print(\"Winner is player 1\")\n",
    "        if(check(rge) == -1):\n",
    "            winner = True\n",
    "            print(\"Winner is player 2\")\n",
    "        if(open(rge)==False):\n",
    "            winner = True\n",
    "            print(\"tie\")\n",
    "        print(\"\")\n",
    "        currentlyUp = currentlyUp*-1\n",
    "play()"
   ]
  },
  {
   "cell_type": "markdown",
   "metadata": {},
   "source": [
    "**Problem:** Implement an AI user that given the board and player, picks the next game state board with the highest score."
   ]
  },
  {
   "cell_type": "code",
   "execution_count": 56,
   "metadata": {},
   "outputs": [],
   "source": [
    "def ai_user(board, player):\n",
    "    testing = move(board, player)\n",
    "    indexWithHighestScore = 0\n",
    "    for i in range(len(testing)):\n",
    "        if(score(testing[i],player) > score(testing[indexWithHighestScore],player)):\n",
    "            indexWithHighestScore = i\n",
    "    print(score(testing[indexWithHighestScore], player))\n",
    "    return testing[indexWithHighestScore]"
   ]
  },
  {
   "cell_type": "markdown",
   "metadata": {},
   "source": [
    "**Problem:** Play the game against the AI."
   ]
  },
  {
   "cell_type": "code",
   "execution_count": 67,
   "metadata": {},
   "outputs": [
    {
     "name": "stdout",
     "output_type": "stream",
     "text": [
      "0.0\n",
      "[[1 0 0]\n",
      " [0 0 0]\n",
      " [0 0 0]]\n",
      "\n",
      "Going down by columns, pick the number zero you'd like to occupy (1-9)4\n",
      "[[ 1  0  0]\n",
      " [ 0 -1  0]\n",
      " [ 0  0  0]]\n",
      "\n",
      "4.0\n",
      "[[ 1  0  0]\n",
      " [ 1 -1  0]\n",
      " [ 0  0  0]]\n",
      "\n",
      "Going down by columns, pick the number zero you'd like to occupy (1-9)1\n",
      "[[ 1  0  0]\n",
      " [ 1 -1  0]\n",
      " [-1  0  0]]\n",
      "\n",
      "0.0\n",
      "[[ 1  0  1]\n",
      " [ 1 -1  0]\n",
      " [-1  0  0]]\n",
      "\n",
      "Going down by columns, pick the number zero you'd like to occupy (1-9)1\n",
      "[[ 1 -1  1]\n",
      " [ 1 -1  0]\n",
      " [-1  0  0]]\n",
      "\n",
      "0.0\n",
      "[[ 1 -1  1]\n",
      " [ 1 -1  0]\n",
      " [-1  1  0]]\n",
      "\n",
      "Going down by columns, pick the number zero you'd like to occupy (1-9)1\n",
      "[[ 1 -1  1]\n",
      " [ 1 -1 -1]\n",
      " [-1  1  0]]\n",
      "\n",
      "0.0\n",
      "[[ 1 -1  1]\n",
      " [ 1 -1 -1]\n",
      " [-1  1  1]]\n",
      "tie\n",
      "\n"
     ]
    }
   ],
   "source": [
    "play(player1_input=ai_user)"
   ]
  }
 ],
 "metadata": {
  "kernelspec": {
   "display_name": "Python 3",
   "language": "python",
   "name": "python3"
  },
  "language_info": {
   "codemirror_mode": {
    "name": "ipython",
    "version": 3
   },
   "file_extension": ".py",
   "mimetype": "text/x-python",
   "name": "python",
   "nbconvert_exporter": "python",
   "pygments_lexer": "ipython3",
   "version": "3.6.4"
  }
 },
 "nbformat": 4,
 "nbformat_minor": 2
}
