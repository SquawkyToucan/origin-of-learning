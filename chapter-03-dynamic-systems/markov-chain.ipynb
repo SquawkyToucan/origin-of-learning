{
 "cells": [
  {
   "cell_type": "markdown",
   "metadata": {},
   "source": [
    "# Markov chains\n",
    "\n",
    "[Markov chains](https://en.wikipedia.org/wiki/Markov_chain) are systems that evolve in discrete time. The system might have a state that evolves in time and represents the number of particles in a region of space or the probability of a given letter in a language. They are usually described by a state-transition diagram like,\n",
    "\n",
    "![state-transition diagram](https://upload.wikimedia.org/wikipedia/commons/thumb/2/2b/Markovkate_01.svg/440px-Markovkate_01.svg.png)\n",
    "\n",
    "which can be described in a matrix like,\n",
    "\n",
    "$$\n",
    "T = \\left(\\begin{matrix}\n",
    "0.3 & 0.4 \\\\\n",
    "0.7 & 0.6\n",
    "\\end{matrix}\\right)\n",
    "$$\n",
    "\n",
    "We then represent the state of the system like,\n",
    "$$\n",
    "x = \\left(\\begin{matrix}\n",
    "\\text{Quantity in E} \\\\\n",
    "\\text{Quantity in A}\n",
    "\\end{matrix}\\right)\n",
    "$$\n",
    "\n",
    "At each time step, we evolve the state by multiplying $ x_{t+1} = T x_t $."
   ]
  },
  {
   "cell_type": "code",
   "execution_count": 18,
   "metadata": {},
   "outputs": [],
   "source": [
    "import numpy as np\n",
    "import matplotlib.pyplot as plt\n",
    "from functools import reduce"
   ]
  },
  {
   "cell_type": "markdown",
   "metadata": {},
   "source": [
    "**Problem:** For the above transition matrix, evolve the matrix according to the above rule and plot the state versus time."
   ]
  },
  {
   "cell_type": "code",
   "execution_count": 33,
   "metadata": {},
   "outputs": [
    {
     "name": "stdout",
     "output_type": "stream",
     "text": [
      "[[1.   0.3  0.37]\n",
      " [0.   0.7  0.63]]\n"
     ]
    },
    {
     "data": {
      "image/png": "[encoded data removed]",
      "text/plain": [
       "<matplotlib.figure.Figure at 0x108408a58>"
      ]
     },
     "metadata": {},
     "output_type": "display_data"
    }
   ],
   "source": [
    "T = np.array([[0.3, 0.4],\n",
    "              [0.7, 0.6]])\n",
    "\n",
    "x0 = np.array([1.0, 0.0]).reshape(-1, 1)\n",
    "\n",
    "# First, second, and third time step evolutions for example,\n",
    "print(np.hstack([x0, T.dot(x0), T.dot(T.dot(x0))]))\n",
    "\n",
    "def state_occupation(x0, T, steps):\n",
    "    # This following line is rather involved Python\n",
    "    # Just replace it, but you can assume that the line is correct\n",
    "    # to compare results\n",
    "    return np.array(sum((list(reduce(np.dot, [x0.T] + [T.T]*i)) for i in range(steps)), []))\n",
    "\n",
    "x = state_occupation(x0, T, 10)\n",
    "plt.plot(x[:, 0])\n",
    "plt.plot(x[:, 1])\n",
    "plt.legend(['E', 'A'])\n",
    "plt.ylim([0, 1])\n",
    "plt.show()"
   ]
  },
  {
   "cell_type": "markdown",
   "metadata": {},
   "source": [
    "**Problem:** At each timestep, find the most likely state. Meaning if E has more occupation than A, then E is more likely."
   ]
  },
  {
   "cell_type": "code",
   "execution_count": 35,
   "metadata": {},
   "outputs": [
    {
     "data": {
      "text/plain": [
       "['E', 'A', 'A', 'A', 'A', 'A', 'A', 'A', 'A', 'A']"
      ]
     },
     "execution_count": 35,
     "metadata": {},
     "output_type": "execute_result"
    }
   ],
   "source": [
    "def most_likely(x0, T, steps, states=['E', 'A']):\n",
    "    # Replace the line with your own code\n",
    "    return [states[i] for i in np.argmax(state_occupation(x0, T, steps), axis=1)]\n",
    "\n",
    "most_likely(x0, T, 10)"
   ]
  },
  {
   "cell_type": "markdown",
   "metadata": {},
   "source": [
    "The output list should agree with the plot from the previous problem"
   ]
  },
  {
   "cell_type": "markdown",
   "metadata": {},
   "source": [
    "## Language Modeling\n",
    "\n",
    "Markov chains can be useful for generating fake words that mimic structures in the language. Let's look at a sample of text from [English](https://en.wikipedia.org/wiki/Donald_Trump),"
   ]
  },
  {
   "cell_type": "code",
   "execution_count": 70,
   "metadata": {},
   "outputs": [
    {
     "name": "stdout",
     "output_type": "stream",
     "text": [
      "1545.043137254902\n"
     ]
    }
   ],
   "source": [
    "import requests, re\n",
    "en = requests.get('http://www.gutenberg.org/files/74/74-0.txt').text.lower()\n",
    "en = re.sub('[^a-z]+', ' ', en) # Remove all non-alphabet characters\n",
    "print(len(en)/255)"
   ]
  },
  {
   "cell_type": "markdown",
   "metadata": {},
   "source": [
    "We can train a Markov chain simply by computing the transition probabilities between letters. Note that I add a 1.0e-3 to the initial matrix. This is called [Additive smoothing](https://en.wikipedia.org/wiki/Additive_smoothing) and although not needed, makes my life easier by avoiding dividing by zero."
   ]
  },
  {
   "cell_type": "code",
   "execution_count": 84,
   "metadata": {},
   "outputs": [
    {
     "name": "stdout",
     "output_type": "stream",
     "text": [
      "393985.0\n"
     ]
    }
   ],
   "source": [
    "N = 2\n",
    "\n",
    "T_en = np.zeros((256*N, 256*N))\n",
    "\n",
    "for chars in zip(*[en[i:len(en)-2*N+i] for i in range(1, 2*N+1)]):\n",
    "    chars = np.array(list(map(ord, chars)))\n",
    "    init, final = chars[:N], chars[N:]\n",
    "    if np.all(chars < 256):\n",
    "        T_en[np.sum(init*256**np.arand(N)), np.sum(final*256**np.arand(N))] += 1.0\n",
    "\n",
    "print(np.sum(T_en))\n",
    "T_en /= np.sum(T_en, axis=1).reshape(-1, 1) + 1e-3"
   ]
  },
  {
   "cell_type": "markdown",
   "metadata": {},
   "source": [
    "I can generate a simple word by using the most likely function above,"
   ]
  },
  {
   "cell_type": "code",
   "execution_count": 85,
   "metadata": {},
   "outputs": [
    {
     "name": "stdout",
     "output_type": "stream",
     "text": [
      "angwengwjnghwnghththtttttttttttttttttttttttttttttt\n",
      "s wexgwexgwengwanthttttttttttttttttttttttttttttttt\n",
      "d jhm whmgwhngwhn tttttttttttttttttttttttttttttttt\n",
      "fffomgwoxgxgrgrththttttttttttttttttttttttttttttttt\n",
      "ghw jhwhjhwhwhwhththtttttttttttttttttttttttttttttt\n",
      "hexgwexghjzjhwhwhththttttttttttttttttttttttttttttt\n",
      "juzgwgxghjrjhwhwhththttttttttttttttttttttttttttttt\n",
      "kexhmgxhwgxhngrtht ttttttttttttttttttttttttttttttt\n",
      "llljuzzjhw jhw whthttttttttttttttttttttttttttttttt\n",
      "quzkwgxjugxjhg wht thttttttttttttttttttttttttttttt\n",
      "wangwhzgwhngwbnd thttttttttttttttttttttttttttttttt\n",
      "exjhexjhj jhw whththtttttttttttttttttttttttttttttt\n",
      "rexongxjngxjhw whthttttttttttttttttttttttttttttttt\n",
      "thexghjzjhw jhwhwhthtttttttttttttttttttttttttttttt\n",
      "y jhx whvgwhngwhn tttttttttttttttttttttttttttttttt\n",
      "uzkwgxjugxjhg wht thtttttttttttttttttttttttttttttt\n",
      "izgwhzgwazghwndhththtttttttttttttttttttttttttttttt\n",
      "ougrengxjng whwhththtttttttttttttttttttttttttttttt\n",
      "pplgwezgwbnghwndhthttttttttttttttttttttttttttttttt\n"
     ]
    }
   ],
   "source": [
    "for starting_letter in 'asdfghjklqwertyuiop':\n",
    "    x0 = np.eye(255)[ord(starting_letter)].reshape(-1, 1)\n",
    "    states = [chr(i) + chr(j) for i in range(255), ]\n",
    "    print(''.join(most_likely(x0, T_en, 50, states)))"
   ]
  },
  {
   "cell_type": "markdown",
   "metadata": {},
   "source": [
    "Admittedly not that great. We can do better if at each step, we collapse the state down to whatever letter we chose in the previous step and add in an alternate sampling scheme. **This probably won't make sense! Ask about it in class**"
   ]
  },
  {
   "cell_type": "code",
   "execution_count": 86,
   "metadata": {},
   "outputs": [],
   "source": [
    "def evolve(x0, T, steps, states):\n",
    "    output = [states[np.argmax(x0)]]\n",
    "    for i in range(steps):\n",
    "        x0 = T.dot(x0)\n",
    "        x0 /= np.sum(x0) # Normalize probabilities\n",
    "        i = np.random.choice(np.arange(x0.shape[0]), p=x0.flatten()) # Random weighted sampling\n",
    "        output.append(states[i])\n",
    "        x0 = np.eye(x0.shape[0])[i]\n",
    "    return output"
   ]
  },
  {
   "cell_type": "code",
   "execution_count": 88,
   "metadata": {},
   "outputs": [
    {
     "name": "stdout",
     "output_type": "stream",
     "text": [
      "acy jok quarywelyonjurkevedrsply tigand hizzzzzzzzz\n",
      "shanedownolingofifo ju cksqugrooubonybybyzzzzzzzzze\n",
      "divybungalyseremprnsut sith quld fing tizzzzzzzzzzz\n",
      "fary boumpurromofrwinasiplyojodiximprmirmulllkelexv\n",
      "gove jonoofiney quprgooouth bupigugorshuld jacecowe\n",
      "hoy tckerppusquzzzyodsmpomplat mivixxphevy mppizzzz\n",
      "julldngersper fevidduplyejovitibupinthacl azzzzzzzz\n",
      "kexxxxxxxxxvenchazz tsoymbaikisqupabecksqunyzzzzzzz\n",
      "lk llyovecard fik mashackythigofled bouppeshervespe\n",
      "quprong y qudy wheryzzzzzzzzzzzzzzzit mbrmbupain hr\n",
      "withizzzzzzzzzzzzzzzzzexed byzzzzzzzzzzzzzzysk wacr\n",
      "ethizzzzzzzzzzzzzzzzzzzzzzy pkyskf hexxxxxprnzzzelf\n",
      "rkorgayomouzzzzzzzizzvequzzzzzzzzzzybloftwoulinjulo\n",
      "theymoutmuckn burilwd qugucozzvi suporkym obongongo\n",
      "yorgg qugly ainckndquguphaybutontyzzzzzzzzzzzzzzzzz\n",
      "uded isckizzzzzzidybunqushecked lkesusmyexxcuthimav\n",
      "ixxcoucombbazzzzzzzexxxxxxpl ruthexxxxpovimpptfrmpr\n",
      "oomouzzzzzzzzzzzzvecoighed xpuzzzzzzzzzzzzzzzzercny\n",
      "p joulympouzzzzzzzzvidsaves hacld towizzzzzzzagar w\n"
     ]
    }
   ],
   "source": [
    "for starting_letter in 'asdfghjklqwertyuiop':\n",
    "    x0 = np.eye(255)[ord(starting_letter)].reshape(-1, 1)\n",
    "    states = list(map(chr, range(255)))\n",
    "    print(''.join(evolve(x0, T_en, 50, states)))"
   ]
  },
  {
   "cell_type": "markdown",
   "metadata": {},
   "source": [
    "A little better. Occasionally, we see actual english words. Still pretty bad though. But this is a pretty naive and basic model. Better models would be possible if we use more advanced algorithms."
   ]
  }
 ],
 "metadata": {
  "kernelspec": {
   "display_name": "Python 3",
   "language": "python",
   "name": "python3"
  },
  "language_info": {
   "codemirror_mode": {
    "name": "ipython",
    "version": 3
   },
   "file_extension": ".py",
   "mimetype": "text/x-python",
   "name": "python",
   "nbconvert_exporter": "python",
   "pygments_lexer": "ipython3",
   "version": "3.6.3"
  }
 },
 "nbformat": 4,
 "nbformat_minor": 2
}
