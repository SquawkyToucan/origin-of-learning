{
 "cells": [
  {
   "cell_type": "markdown",
   "metadata": {},
   "source": [
    "# Markov chains\n",
    "\n",
    "[Markov chains](https://en.wikipedia.org/wiki/Markov_chain) are systems that evolve in discrete time. The system might have a state that evolves in time and represents the number of particles in a region of space or the probability of a given letter in a language. They are usually described by a state-transition diagram like,\n",
    "\n",
    "![state-transition diagram](https://upload.wikimedia.org/wikipedia/commons/thumb/2/2b/Markovkate_01.svg/440px-Markovkate_01.svg.png)\n",
    "\n",
    "which can be described in a matrix like,\n",
    "\n",
    "$$\n",
    "T = \\left(\\begin{matrix}\n",
    "0.3 & 0.4 \\\\\n",
    "0.7 & 0.6\n",
    "\\end{matrix}\\right)\n",
    "$$\n",
    "\n",
    "We then represent the state of the system like,\n",
    "$$\n",
    "x = \\left(\\begin{matrix}\n",
    "\\text{Quantity in E} \\\\\n",
    "\\text{Quantity in A}\n",
    "\\end{matrix}\\right)\n",
    "$$\n",
    "\n",
    "At each time step, we evolve the state by multiplying $ x_{t+1} = T x_t $."
   ]
  },
  {
   "cell_type": "code",
   "execution_count": 1,
   "metadata": {},
   "outputs": [],
   "source": [
    "import numpy as np\n",
    "import matplotlib.pyplot as plt"
   ]
  },
  {
   "cell_type": "markdown",
   "metadata": {},
   "source": [
    "**Problem:** For the above transition matrix, evolve the matrix according to the above rule and plot the state versus time."
   ]
  },
  {
   "cell_type": "code",
   "execution_count": 4,
   "metadata": {},
   "outputs": [
    {
     "data": {
      "text/plain": [
       "array([[ 1.  ,  0.3 ,  0.37],\n",
       "       [ 0.  ,  0.7 ,  0.63]])"
      ]
     },
     "execution_count": 4,
     "metadata": {},
     "output_type": "execute_result"
    }
   ],
   "source": [
    "T = np.array([[0.3, 0.4],\n",
    "              [0.7, 0.6]])\n",
    "\n",
    "x0 = np.array([1.0, 0.0]).reshape(-1, 1)\n",
    "\n",
    "# First, second, and third time step evolutions for example,\n",
    "np.hstack([x0, T.dot(x0), T.dot(T.dot(x0))])"
   ]
  }
 ],
 "metadata": {
  "kernelspec": {
   "display_name": "Python 3",
   "language": "python",
   "name": "python3"
  },
  "language_info": {
   "codemirror_mode": {
    "name": "ipython",
    "version": 3
   },
   "file_extension": ".py",
   "mimetype": "text/x-python",
   "name": "python",
   "nbconvert_exporter": "python",
   "pygments_lexer": "ipython3",
   "version": "3.6.3"
  }
 },
 "nbformat": 4,
 "nbformat_minor": 2
}
