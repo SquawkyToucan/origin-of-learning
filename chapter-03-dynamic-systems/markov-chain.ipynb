{
 "cells": [
  {
   "cell_type": "markdown",
   "metadata": {},
   "source": [
    "# Markov chains\n",
    "\n",
    "[Markov chains](https://en.wikipedia.org/wiki/Markov_chain) are systems that evolve in discrete time. They are usually described by a state-transition diagram like,\n",
    "\n",
    "![state-transition diagram](https://upload.wikimedia.org/wikipedia/commons/thumb/2/2b/Markovkate_01.svg/440px-Markovkate_01.svg.png)\n",
    "\n",
    "which can be described in a matrix like,\n",
    "\n",
    "$$\n",
    "T = \\left(\\begin{matrix}\n",
    "0.3 & 0.4 \\\\\n",
    "0.7 & 0.6\n",
    "\\end{matrix}\\right)\n",
    "$$\n",
    "\n",
    "We then represent the state of the system like,\n",
    "$$\n",
    "x = \\left(\\begin{matrix}\n",
    "\\text{Quantity in E} \\\\\n",
    "\\text{Quantity in A}\n",
    "\\end{matrix}\\right)\n",
    "$$\n",
    "\n",
    "At each time step, we evolve the state by multiplying $ x_{t+1} = T x_t $."
   ]
  }
 ],
 "metadata": {
  "kernelspec": {
   "display_name": "Python 3",
   "language": "python",
   "name": "python3"
  },
  "language_info": {
   "codemirror_mode": {
    "name": "ipython",
    "version": 3
   },
   "file_extension": ".py",
   "mimetype": "text/x-python",
   "name": "python",
   "nbconvert_exporter": "python",
   "pygments_lexer": "ipython3",
   "version": "3.6.3"
  }
 },
 "nbformat": 4,
 "nbformat_minor": 2
}
