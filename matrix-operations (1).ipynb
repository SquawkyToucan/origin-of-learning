{
 "cells": [
  {
   "cell_type": "markdown",
   "metadata": {},
   "source": [
    "# Matrix Operations\n",
    "\n",
    "Matrices are a basic method of storing data in scientific computing. Numerous libraries already exist to do a variety of specialized matrix operations (see [BLAS](https://en.wikipedia.org/wiki/Basic_Linear_Algebra_Subprograms)). Here, we will investigate a few operations on matrices.\n",
    "\n",
    "## Matrix Multiplication\n",
    "\n",
    "Beyond simply adding and subtracting matrices, [Matrix Multiplication](https://en.wikipedia.org/wiki/Matrix_multiplication#General_definition_of_the_matrix_product) is a fundemental operation. In Python, Numpy already offers a means of multiplying matrices using the [`dot`](https://docs.scipy.org/doc/numpy-1.13.0/reference/generated/numpy.dot.html) operation.\n",
    "\n",
    "**Problem:** As a simple sanity check, write a method that does matrix multiplication,"
   ]
  },
  {
   "cell_type": "code",
   "execution_count": 5,
   "metadata": {},
   "outputs": [],
   "source": [
    "import numpy as np\n",
    "import matplotlib.pyplot as plt"
   ]
  },
  {
   "cell_type": "code",
   "execution_count": 54,
   "metadata": {},
   "outputs": [
    {
     "name": "stdout",
     "output_type": "stream",
     "text": [
      "[[19 22]\n",
      " [43 50]]\n",
      "[[19. 22.]\n",
      " [43. 50.]]\n"
     ]
    }
   ],
   "source": [
    " A = np.array([[1, 2],\n",
    "               [3, 4]])\n",
    "B = np.array([[5, 6], \n",
    "              [7, 8]])\n",
    "C = np.array([\n",
    "    [A[0,0]*B[0,0] + A[0,1]*B[1,0]],\n",
    "     [A[0,0]*B[0,1] + A[0,1]*B[1,1]],\n",
    "    \n",
    "    \n",
    "])\n",
    "D = []\n",
    "for i in range(A.shape[0]):\n",
    "    tmp = []\n",
    "    for j in range(B.shape[1]):\n",
    "        val = 0.0\n",
    "        for k in range(A.shape[1]):\n",
    "            val = val + A[i, k] * B[k, j]\n",
    "        tmp.append(val)\n",
    "    D.append(tmp)\n",
    "print(A.dot(B))\n",
    "print(np.array(D))"
   ]
  },
  {
   "cell_type": "code",
   "execution_count": 55,
   "metadata": {},
   "outputs": [],
   "source": [
    "def matrix_multiplication(A, B):\n",
    "    \"\"\"\n",
    "    A and B will be two dimensional matrices of shape (N, M) and (M, P) respectively\n",
    "    You can index into them by doing A[i][j] or A[i, j] (because they will be numpy matrices)\n",
    "    \n",
    "    Return the product A.dot(B), but write your own code!\n",
    "    \"\"\"\n",
    "    D = []\n",
    "    for i in range(A.shape[0]):\n",
    "        tmp = []\n",
    "        for j in range(B.shape[1]):\n",
    "            val = 0.0\n",
    "            for k in range(A.shape[1]):\n",
    "                val = val + A[i, k] * B[k, j]\n",
    "            tmp.append(val)\n",
    "        D.append(tmp)\n",
    "    return np.array(D)"
   ]
  },
  {
   "cell_type": "markdown",
   "metadata": {},
   "source": [
    "Test the code,"
   ]
  },
  {
   "cell_type": "code",
   "execution_count": 58,
   "metadata": {},
   "outputs": [],
   "source": [
    "for i in range(10):\n",
    "    (N, M, P) = np.random.randint(low=1, high=100, size=3)\n",
    "    A, B = np.random.randn(N, M), np.random.randn(M, P)\n",
    "    assert np.allclose(A.dot(B), matrix_multiplication(A, B))"
   ]
  },
  {
   "cell_type": "markdown",
   "metadata": {},
   "source": [
    "## Unitary matrices\n",
    "\n",
    "[Unitary matrices](https://en.wikipedia.org/wiki/Unitary_matrix) have a special property that if you multiply a matrix by it's transpose, then you get the identity matrix.\n",
    "\n",
    "$$\\begin{align}\n",
    "A^T A = \\mathbb{1}\n",
    "\\end{align}$$\n",
    "\n",
    "for example, the following matrices are unitary (called the [SO(2) group](https://en.wikipedia.org/wiki/Orthogonal_group)),"
   ]
  },
  {
   "cell_type": "code",
   "execution_count": 5,
   "metadata": {},
   "outputs": [],
   "source": [
    "def so2(phi):\n",
    "    return np.array([[np.cos(phi), -np.sin(phi)],\n",
    "                     [np.sin(phi),  np.cos(phi)]])"
   ]
  },
  {
   "cell_type": "code",
   "execution_count": 6,
   "metadata": {},
   "outputs": [
    {
     "name": "stdout",
     "output_type": "stream",
     "text": [
      "[[ 0.33046511 -0.94381821]\n",
      " [ 0.94381821  0.33046511]]\n",
      "[[ 1.  0.]\n",
      " [ 0.  1.]]\n"
     ]
    }
   ],
   "source": [
    "A = so2(1.234)\n",
    "print(A)\n",
    "print(A.T.dot(A))"
   ]
  },
  {
   "cell_type": "markdown",
   "metadata": {},
   "source": [
    "**Problem:** Prove analytically, that $ A^T A = \\mathbb{1} $ for all $ \\phi $,\n",
    "\n",
    "$$\\begin{align}\n",
    "A = \\left(\\begin{matrix}\n",
    "\\cos \\phi & -\\sin \\phi \\\\\n",
    "\\sin \\phi & \\cos \\phi\n",
    "\\end{matrix}\\right)\n",
    "\\end{align}$$\n",
    "\n",
    "*Write proof here*"
   ]
  },
  {
   "cell_type": "markdown",
   "metadata": {},
   "source": [
    "**Problem:** For a set of 2D points $ X $, we can graphically see what the SO(2) matrix does to the points. Play with $ phi $ till you can figure out what the matrix is doing."
   ]
  },
  {
   "cell_type": "code",
   "execution_count": 7,
   "metadata": {},
   "outputs": [],
   "source": [
    "X = np.random.randn(2, 3)"
   ]
  },
  {
   "cell_type": "code",
   "execution_count": 8,
   "metadata": {},
   "outputs": [
    {
     "data": {
      "image/png": "[encoded data removed]",
      "text/plain": [
       "<matplotlib.figure.Figure at 0x104bace80>"
      ]
     },
     "metadata": {},
     "output_type": "display_data"
    }
   ],
   "source": [
    "phi = np.pi\n",
    "plt.scatter(X[0, :], X[1, :])\n",
    "Y = so2(phi).dot(X)\n",
    "plt.scatter(Y[0, :], Y[1, :])\n",
    "\n",
    "plt.legend(['original', 'new'])\n",
    "plt.xlim(-2, 2)\n",
    "plt.ylim(-2, 2)\n",
    "plt.show()"
   ]
  },
  {
   "cell_type": "markdown",
   "metadata": {},
   "source": [
    "The norm of a vector $ x $ can be computed like $ \\| x \\|^2 = x^T x $.\n",
    "\n",
    "**Problem:** For any unitary matrix $ U $ (meaning $ U^T U = \\mathbb{1} $), show that $ \\| U x \\| = \\| x \\| $. *Hint, $ (Ax)^T = x^T A^T $*."
   ]
  },
  {
   "cell_type": "markdown",
   "metadata": {},
   "source": [
    "## Eigenvalues\n",
    "\n",
    "For a matrix $ A $, for certain vectors, we can get a relation,\n",
    "\n",
    "$$\\begin{align}\n",
    "A \\vec{x} = \\lambda \\vec{x}\n",
    "\\end{align}$$\n",
    "where $ x $ is called an eigenvector and $ \\lambda $ is called an eigenvalue.\n",
    "\n",
    "This yields some cool properties like taking the power of a matrix,\n",
    "$$\\begin{align}\n",
    "A^n \\vec{x} = \\lambda^n \\vec{x}\n",
    "\\end{align}$$\n",
    "\n",
    "**Problem:** Compute the eigenvalues using [numpy.linalg.eig](https://docs.scipy.org/doc/numpy-1.12.0/reference/generated/numpy.linalg.eig.html) and show that the eigenvectors/eigenvalues indeed satisfy the [eigenvalue equation](https://en.wikipedia.org/wiki/Eigenvalues_and_eigenvectors)."
   ]
  },
  {
   "cell_type": "code",
   "execution_count": 10,
   "metadata": {},
   "outputs": [],
   "source": [
    "A = np.array([[2, 3, 4],\n",
    "              [3, 0, 1],\n",
    "              [4, 1, 1]])"
   ]
  }
 ],
 "metadata": {
  "kernelspec": {
   "display_name": "Python 3",
   "language": "python",
   "name": "python3"
  },
  "language_info": {
   "codemirror_mode": {
    "name": "ipython",
    "version": 3
   },
   "file_extension": ".py",
   "mimetype": "text/x-python",
   "name": "python",
   "nbconvert_exporter": "python",
   "pygments_lexer": "ipython3",
   "version": "3.6.4"
  }
 },
 "nbformat": 4,
 "nbformat_minor": 2
}
