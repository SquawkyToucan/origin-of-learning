{
 "cells": [
  {
   "cell_type": "markdown",
   "metadata": {},
   "source": [
    "## Unitary matrices\n",
    "\n",
    "[Unitary matrices](https://en.wikipedia.org/wiki/Unitary_matrix) have a special property that if you multiply a matrix by it's transpose, then you get the identity matrix.\n",
    "\n",
    "$$\\begin{align}\n",
    "A^T A = \\mathbb{1}\n",
    "\\end{align}$$\n",
    "\n",
    "for example, the following matrices are unitary (called the [SO(2) group](https://en.wikipedia.org/wiki/Orthogonal_group)),"
   ]
  },
  {
   "cell_type": "code",
   "execution_count": null,
   "metadata": {},
   "outputs": [],
   "source": [
    "def so2(phi):\n",
    "    return np.array([[np.cos(phi), -np.sin(phi)],\n",
    "                     [np.sin(phi),  np.cos(phi)]])"
   ]
  },
  {
   "cell_type": "code",
   "execution_count": null,
   "metadata": {},
   "outputs": [],
   "source": [
    "A = so2(1.234)\n",
    "print(A)\n",
    "print(A.T.dot(A))"
   ]
  },
  {
   "cell_type": "markdown",
   "metadata": {},
   "source": [
    "**Problem:** Prove analytically, that $ A^T A = \\mathbb{1} $ for all $ \\phi $,\n",
    "\n",
    "$$\\begin{align}\n",
    "A = \\left(\\begin{matrix}\n",
    "\\cos \\phi & -\\sin \\phi \\\\\n",
    "\\sin \\phi & \\cos \\phi\n",
    "\\end{matrix}\\right)\n",
    "\\end{align}$$\n",
    "\n",
    "*Write proof here*"
   ]
  },
  {
   "cell_type": "markdown",
   "metadata": {},
   "source": [
    "**Problem:** For a set of 2D points $ X $, we can graphically see what the SO(2) matrix does to the points. Play with $ phi $ till you can figure out what the matrix is doing."
   ]
  },
  {
   "cell_type": "code",
   "execution_count": null,
   "metadata": {},
   "outputs": [],
   "source": [
    "X = np.random.randn(2, 3)"
   ]
  },
  {
   "cell_type": "code",
   "execution_count": null,
   "metadata": {},
   "outputs": [],
   "source": [
    "phi = np.pi\n",
    "plt.scatter(X[0, :], X[1, :])\n",
    "Y = so2(phi).dot(X)\n",
    "plt.scatter(Y[0, :], Y[1, :])\n",
    "\n",
    "plt.legend(['original', 'new'])\n",
    "plt.xlim(-2, 2)\n",
    "plt.ylim(-2, 2)\n",
    "plt.show()"
   ]
  },
  {
   "cell_type": "markdown",
   "metadata": {},
   "source": [
    "The norm of a vector $ x $ can be computed like $ \\| x \\|^2 = x^T x $.\n",
    "\n",
    "**Problem:** For any unitary matrix $ U $ (meaning $ U^T U = \\mathbb{1} $), show that $ \\| U x \\| = \\| x \\| $. *Hint, $ (Ax)^T = x^T A^T $*."
   ]
  },
  {
   "cell_type": "markdown",
   "metadata": {},
   "source": [
    "## Eigenvalues\n",
    "\n",
    "For a matrix $ A $, for certain vectors, we can get a relation,\n",
    "\n",
    "$$\\begin{align}\n",
    "A \\vec{x} = \\lambda \\vec{x}\n",
    "\\end{align}$$\n",
    "where $ x $ is called an eigenvector and $ \\lambda $ is called an eigenvalue.\n",
    "\n",
    "This yields some cool properties like taking the power of a matrix,\n",
    "$$\\begin{align}\n",
    "A^n \\vec{x} = \\lambda^n \\vec{x}\n",
    "\\end{align}$$\n",
    "\n",
    "**Problem:** Compute the eigenvalues using [numpy.linalg.eig](https://docs.scipy.org/doc/numpy-1.12.0/reference/generated/numpy.linalg.eig.html) and show that the eigenvectors/eigenvalues indeed satisfy the [eigenvalue equation](https://en.wikipedia.org/wiki/Eigenvalues_and_eigenvectors)."
   ]
  },
  {
   "cell_type": "code",
   "execution_count": null,
   "metadata": {},
   "outputs": [],
   "source": [
    "A = np.array([[2, 3, 4],\n",
    "              [3, 0, 1],\n",
    "              [4, 1, 1]])"
   ]
  }
 ],
 "metadata": {
  "kernelspec": {
   "display_name": "Python 3",
   "language": "python",
   "name": "python3"
  },
  "language_info": {
   "codemirror_mode": {
    "name": "ipython",
    "version": 3
   },
   "file_extension": ".py",
   "mimetype": "text/x-python",
   "name": "python",
   "nbconvert_exporter": "python",
   "pygments_lexer": "ipython3",
   "version": "3.6.3"
  }
 },
 "nbformat": 4,
 "nbformat_minor": 2
}
