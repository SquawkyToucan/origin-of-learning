{
 "cells": [
  {
   "cell_type": "markdown",
   "metadata": {},
   "source": [
    "# Summing over certain Axis\n",
    "\n",
    "Summation of a multi-dimensional array can occur over multiple axis. For example,"
   ]
  },
  {
   "cell_type": "code",
   "execution_count": 1,
   "metadata": {},
   "outputs": [],
   "source": [
    "import numpy as np\n",
    "import matplotlib.pyplot as plt"
   ]
  },
  {
   "cell_type": "code",
   "execution_count": 2,
   "metadata": {},
   "outputs": [
    {
     "name": "stdout",
     "output_type": "stream",
     "text": [
      "[[ 0  1  2  3  4]\n",
      " [ 5  6  7  8  9]\n",
      " [10 11 12 13 14]\n",
      " [15 16 17 18 19]]\n",
      "Over axis=0 [30 34 38 42 46]\n",
      "Over axis=1 [10 35 60 85]\n"
     ]
    }
   ],
   "source": [
    "A = np.arange(20).reshape(4, 5)\n",
    "print(A)\n",
    "print('Over axis=0', np.sum(A, axis=0))\n",
    "print('Over axis=1', np.sum(A, axis=1))"
   ]
  },
  {
   "cell_type": "markdown",
   "metadata": {},
   "source": [
    "Notice the difference in output shape for the two summations.\n",
    "\n",
    "**Problem:** Figure out how `np.sum` works over different axis. Try playing with different sized arrays. Like try summing `np.arange(3*4*5).reshape(3, 4, 5)` over different axis. Then implement your own version of the summation. Write test cases to verify it works"
   ]
  },
  {
   "cell_type": "code",
   "execution_count": 3,
   "metadata": {},
   "outputs": [],
   "source": [
    "def my_sum(x, axis):\n",
    "    return np.sum(x, axis=axis)\n",
    "\n",
    "# Add test cases"
   ]
  },
  {
   "cell_type": "markdown",
   "metadata": {},
   "source": [
    "# Cumulative Summation\n",
    "\n",
    "Sometimes, it is important to get a running total of something. This can be done with [`np.cumsum`](https://docs.scipy.org/doc/numpy-1.13.0/reference/generated/numpy.cumsum.html),"
   ]
  },
  {
   "cell_type": "code",
   "execution_count": 4,
   "metadata": {},
   "outputs": [
    {
     "name": "stdout",
     "output_type": "stream",
     "text": [
      "[0 1 2 3 4 5 6 7 8 9]\n",
      "[ 0  1  3  6 10 15 21 28 36 45]\n"
     ]
    }
   ],
   "source": [
    "print(np.arange(10))\n",
    "print(np.cumsum(np.arange(10)))"
   ]
  },
  {
   "cell_type": "markdown",
   "metadata": {},
   "source": [
    "**Problem:** Figure out how cumsum works and write your own implementation with test cases."
   ]
  },
  {
   "cell_type": "code",
   "execution_count": 5,
   "metadata": {},
   "outputs": [],
   "source": [
    "def my_cumsum(x):\n",
    "    return np.cumsum(x)\n",
    "\n",
    "# Add test cases"
   ]
  },
  {
   "cell_type": "markdown",
   "metadata": {},
   "source": [
    "# Discrete Integration\n",
    "\n",
    "Scary word for cumulative summation. Let's look at an application.\n",
    "\n",
    "**Problem:** Imagine we are looking at the output of a predictive system that forecasts Amazon sales for a particular item per day. We have a certain number of items in our various fulfillment centers called `quantity` and we would like to know when we are likely to run out of items due to sales. Use `np.sum` and `np.cumsum` to figure out when all the fulfillment centers will run out of items."
   ]
  },
  {
   "cell_type": "code",
   "execution_count": 6,
   "metadata": {},
   "outputs": [
    {
     "data": {
      "image/png": "[encoded data removed]",
      "text/plain": [
       "<matplotlib.figure.Figure at 0x113450048>"
      ]
     },
     "metadata": {},
     "output_type": "display_data"
    }
   ],
   "source": [
    "quantity = np.array([10, 14, 23, 8])\n",
    "predicted_sales = np.random.randint(low=0, high=5, size=20)\n",
    "plt.plot(predicted_sales)\n",
    "plt.show()"
   ]
  },
  {
   "cell_type": "code",
   "execution_count": 7,
   "metadata": {},
   "outputs": [],
   "source": [
    "# Find out when we run out of items"
   ]
  },
  {
   "cell_type": "markdown",
   "metadata": {},
   "source": [
    "**Problem:** Now, imagine that we have one fulfillment center, but it has a replenishment schedule where new shipments of items come in and we need to update the quantity. Find the total quantity given the sales. The quantity is the initial quantity plus the cumulative sum of the replenishment minus the items lost due to sales."
   ]
  },
  {
   "cell_type": "code",
   "execution_count": 8,
   "metadata": {},
   "outputs": [],
   "source": [
    "initial_quantity = 10\n",
    "replensishment = np.random.randint(low=0, high=5, size=20)\n",
    "sales = np.random.randint(low=0, high=5, size=20)"
   ]
  }
 ],
 "metadata": {
  "kernelspec": {
   "display_name": "Python 3",
   "language": "python",
   "name": "python3"
  },
  "language_info": {
   "codemirror_mode": {
    "name": "ipython",
    "version": 3
   },
   "file_extension": ".py",
   "mimetype": "text/x-python",
   "name": "python",
   "nbconvert_exporter": "python",
   "pygments_lexer": "ipython3",
   "version": "3.6.3"
  }
 },
 "nbformat": 4,
 "nbformat_minor": 2
}
