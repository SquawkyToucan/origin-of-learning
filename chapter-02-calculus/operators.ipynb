{
 "cells": [
  {
   "cell_type": "markdown",
   "metadata": {},
   "source": [
    "**Problem:** Using the polydiff I wrote below (just because it will run faster), write a function that computes the coefficients of the polynomial for the derivative."
   ]
  },
  {
   "cell_type": "code",
   "execution_count": 4,
   "metadata": {},
   "outputs": [],
   "source": [
    "import numpy as np\n",
    "\n",
    "def polydiff(coeffs, x):\n",
    "    return np.gradient(np.polyval(coeffs, x))/np.gradient(x)\n",
    "\n",
    "def diff_coeffs(coeffs):\n",
    "    \"\"\"\n",
    "    Return the coefficients for the derivative polynomial\n",
    "    \"\"\"\n",
    "    return np.polyfit(x, polydiff(coeffs, x), deg = len(coeffs)-1)"
   ]
  },
  {
   "cell_type": "markdown",
   "metadata": {},
   "source": [
    "Now if we consider polynomials like,\n",
    "\n",
    "$$\\begin{align}\n",
    "P_\\vec{a}(x) = \\sum_n a_n x^n\n",
    "\\end{align}$$\n",
    "\n",
    "If we take the derivative of this polynomial, we could imagine getting another polynomial like,\n",
    "$$\\begin{align}\n",
    "\\frac{d}{dx} P_\\vec{a}(x) = \\sum_n b_n x^n\n",
    "\\end{align}$$\n",
    "\n",
    "Where there ought to be some kind of relation between $ \\vec{a} $ and $ \\vec{b} $. Lets hypothesis that this relationship is a matrix transformation.\n",
    "\n",
    "$$\\begin{align}\n",
    "\\vec{b} = D \\vec{a}\n",
    "\\end{align}$$\n",
    "\n",
    "**Problem:** Generate a large set of samples by giving `diff_coeffs` random coefficients (just go up to length 5). Collect the input and output coefficients into two matrices `A` and `B` of shape `(M, 5)` and `(M, 5)` respectively."
   ]
  },
  {
   "cell_type": "code",
   "execution_count": 11,
   "metadata": {},
   "outputs": [
    {
     "name": "stdout",
     "output_type": "stream",
     "text": [
      "100\n"
     ]
    }
   ],
   "source": [
    "samples = 100\n",
    "order = 5\n",
    "A, B = np.empty((samples, order)), np.empty((samples, order))\n",
    "A = np.random.randn(samples, order)\n",
    "# Get derivatives of each row\n",
    "print(A.shape[0])\n",
    "for i in range(A.shape[0]):\n",
    "    for j in range(A.shape[1] - 1):\n",
    "        "
   ]
  },
  {
   "cell_type": "markdown",
   "metadata": {},
   "source": [
    "With these two matrices, we can now get the matrix that transforms $ A \\rightarrow B $ via,"
   ]
  },
  {
   "cell_type": "code",
   "execution_count": 8,
   "metadata": {},
   "outputs": [
    {
     "name": "stderr",
     "output_type": "stream",
     "text": [
      "/usr/local/lib/python3.6/site-packages/ipykernel_launcher.py:1: FutureWarning: `rcond` parameter will change to the default of machine precision times ``max(M, N)`` where M and N are the input matrix dimensions.\n",
      "To use the future default and silence this warning we advise to pass `rcond=None`, to keep using the old, explicitly pass `rcond=-1`.\n",
      "  \"\"\"Entry point for launching an IPython kernel.\n"
     ]
    },
    {
     "data": {
      "text/plain": [
       "array([[ 0.02906265, -0.12039388,  0.01547877, -0.0420387 ,  0.11744496],\n",
       "       [ 0.06615242, -0.05748201, -0.04606098, -0.1673521 ,  0.06193884],\n",
       "       [-0.0215403 , -0.09372   , -0.05790473,  0.07032644,  0.02445038],\n",
       "       [-0.00926677, -0.05745548,  0.01555341,  0.03655622, -0.02652826],\n",
       "       [ 0.04094553,  0.06397666,  0.24398655,  0.03887583, -0.18131847]])"
      ]
     },
     "execution_count": 8,
     "metadata": {},
     "output_type": "execute_result"
    }
   ],
   "source": [
    "D, _, _, _ = np.linalg.lstsq(A, B)\n",
    "D"
   ]
  },
  {
   "cell_type": "markdown",
   "metadata": {},
   "source": [
    "**Problem:** What do you notice about the output? What does this say about differentiation of polynomials."
   ]
  },
  {
   "cell_type": "markdown",
   "metadata": {},
   "source": [
    "**Is Jupyter Notebook weird?** Seeing if this works..."
   ]
  }
 ],
 "metadata": {
  "kernelspec": {
   "display_name": "Python 3",
   "language": "python",
   "name": "python3"
  },
  "language_info": {
   "codemirror_mode": {
    "name": "ipython",
    "version": 3
   },
   "file_extension": ".py",
   "mimetype": "text/x-python",
   "name": "python",
   "nbconvert_exporter": "python",
   "pygments_lexer": "ipython3",
   "version": "3.6.4"
  }
 },
 "nbformat": 4,
 "nbformat_minor": 2
}
